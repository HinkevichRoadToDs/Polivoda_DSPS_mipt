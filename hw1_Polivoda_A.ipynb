{
 "cells": [
  {
   "cell_type": "code",
   "execution_count": 37,
   "id": "a3816bba",
   "metadata": {},
   "outputs": [],
   "source": [
    "import psycopg2 as pg\n",
    "from psycopg2 import OperationalError\n",
    "import pandas as pd\n",
    "import numpy as np\n",
    "import warnings\n",
    "warnings.filterwarnings('ignore')\n",
    "warnings.warn('DelftStack')\n",
    "warnings.warn('Do not show this message')"
   ]
  },
  {
   "cell_type": "code",
   "execution_count": 2,
   "id": "412bfafc",
   "metadata": {},
   "outputs": [],
   "source": [
    "connection = pg.connect(dbname = 'postgres',\n",
    "                       host = 'localhost',\n",
    "                       user = 'postgres',\n",
    "                       password = 'admin',\n",
    "                       port = 5432)\n",
    "cursor = connection.cursor()"
   ]
  },
  {
   "cell_type": "code",
   "execution_count": 60,
   "id": "2fd88483",
   "metadata": {},
   "outputs": [],
   "source": [
    "connection.rollback()"
   ]
  },
  {
   "cell_type": "code",
   "execution_count": 68,
   "id": "0e3967c0",
   "metadata": {},
   "outputs": [],
   "source": [
    "with open('hw1_diagram.sql', 'r') as f:\n",
    "    script = f.read()\n",
    "try:   \n",
    "    cursor.execute(script)\n",
    "except OperationalError as e:\n",
    "    print(e)"
   ]
  },
  {
   "cell_type": "code",
   "execution_count": 28,
   "id": "3daa8e30",
   "metadata": {
    "collapsed": true
   },
   "outputs": [
    {
     "name": "stdout",
     "output_type": "stream",
     "text": [
      "CREATE TABLE \"customer\" (\n",
      "  \"customer_id\" integer PRIMARY KEY,\n",
      "  \"first_name\" varchar,\n",
      "  \"last_name\" varchar,\n",
      "  \"gender\" varchar,\n",
      "  \"DOB\" date,\n",
      "  \"job_id\" integer,\n",
      "  \"wealth_segment\" varchar,\n",
      "  \"deceased_indicator\" varchar,\n",
      "  \"owns_car\" varchar,\n",
      "  \"address_id\" integer,\n",
      "  \"property_valuation\" int,\n",
      "\n",
      "  UNIQUE(\"customer_id\")\n",
      ");\n",
      "\n",
      "CREATE TABLE \"transaction\" (\n",
      "  transaction_id integer PRIMARY KEY,\n",
      "  \"product_id\" integer,\n",
      "  \"customer_id\" integer REFERENCES customer(\"customer_id\"),\n",
      "  \"transaction_date\" date,\n",
      "  \"online_order\" bool,\n",
      "  \"order_status\" varchar,\n",
      "  UNIQUE(\"transaction_id\")\n",
      ");\n",
      "\n",
      "CREATE TABLE \"products\" (\n",
      "  \"product_id\" integer PRIMARY KEY,\n",
      "  \"brand\" varchar,\n",
      "  \"product_line\" varchar,\n",
      "  \"product_class\" varchar,\n",
      "  \"product_size\" varchar,\n",
      "  \"list_price\" float,\n",
      "  \"standard_cost\" float,\n",
      "\n",
      "  UNIQUE(product_id)\n",
      ");\n",
      "\n",
      "CREATE TABLE \"addresses\" (\n",
      "  \"address_id\" integer PRIMARY KEY,\n",
      "  \"address\" text,\n",
      "  \"postcode\" integer,\n",
      "  \"state\" varchar,\n",
      "  \"country\" varchar,\n",
      "  UNIQUE(\"address_id\")\n",
      ");\n",
      "\n",
      "CREATE TABLE \"jobs\" (\n",
      "  \"job_id\" integer PRIMARY KEY,\n",
      "  \"job_title\" varchar,\n",
      "  \"job_industry_category\" varchar,\n",
      "  UNIQUE(\"job_id\")\n",
      ");\n",
      "\n",
      "ALTER TABLE \"transaction\" ADD FOREIGN KEY (\"product_id\") REFERENCES \"products\" (\"product_id\");\n",
      "\n",
      "ALTER TABLE \"transaction\" ADD FOREIGN KEY (\"customer_id\") REFERENCES \"customer\" (\"customer_id\");\n",
      "\n",
      "ALTER TABLE \"jobs\" ADD FOREIGN KEY (\"job_id\") REFERENCES \"customer\" (\"job_id\");\n",
      "\n",
      "ALTER TABLE \"customer\" ADD FOREIGN KEY (\"address_id\") REFERENCES \"addresses\" (\"address_id\");\n",
      "\n"
     ]
    }
   ],
   "source": [
    "print(script)"
   ]
  },
  {
   "cell_type": "code",
   "execution_count": 68,
   "id": "7cc1e143",
   "metadata": {},
   "outputs": [],
   "source": [
    "transaction = pd.read_excel(\"tables_data.xlsx\", sheet_name = 'transaction')\n",
    "customer = pd.read_excel(\"tables_data.xlsx\", sheet_name = 'customer')"
   ]
  },
  {
   "cell_type": "markdown",
   "id": "7ba414b2",
   "metadata": {},
   "source": [
    "## После приведения БД к 3НФ получилось 5 таблиц\n",
    "Ниже по тексту я объясняю почему получилось именно так.\n",
    "\n",
    "![](images/db_model.png)"
   ]
  },
  {
   "cell_type": "markdown",
   "id": "0fd660ff",
   "metadata": {},
   "source": [
    "## Заполняю таблицы *transaction* и *products*\n",
    "\n",
    "Когда transaction была в 1НФ(изначальная таблица), то транзакция(transaction_id) имела несколько транзитивно зависимых(transaction -> product -> атрибуты продукта) от него атрибутов: 'brand','product_line', 'product_class', 'product_size', 'list_price', 'standard_cost', которые в свою очередь не зависели от транзакции(transaction_id), а зависели от product, поэтому я вынес их в отдельную таблицу products с зависимостью теперь только от продукта. Теперь таблица transaction в 3НФ.\n",
    "\n",
    "При заполнении буду использовать первые 50 строк."
   ]
  },
  {
   "cell_type": "markdown",
   "id": "5cd5ac8b",
   "metadata": {},
   "source": [
    "___\n",
    "\n",
    "Я обнаружил, что разным по сути товарам присваивается один и тот же product_id. Это нужно исправить, сделав для каждого уникального по характеристикам велосипеда уникальный идентификатор product_id и также в таблице transaction поменять эти product_id на новые.\n",
    "\n",
    "Например, product_id == 12, разные велосипеды(Giant Bicycles и WeareA2B) имеют одинаковый идентификатор:"
   ]
  },
  {
   "cell_type": "code",
   "execution_count": 121,
   "id": "cb0072de",
   "metadata": {},
   "outputs": [
    {
     "data": {
      "text/html": [
       "<div>\n",
       "<style scoped>\n",
       "    .dataframe tbody tr th:only-of-type {\n",
       "        vertical-align: middle;\n",
       "    }\n",
       "\n",
       "    .dataframe tbody tr th {\n",
       "        vertical-align: top;\n",
       "    }\n",
       "\n",
       "    .dataframe thead th {\n",
       "        text-align: right;\n",
       "    }\n",
       "</style>\n",
       "<table border=\"1\" class=\"dataframe\">\n",
       "  <thead>\n",
       "    <tr style=\"text-align: right;\">\n",
       "      <th></th>\n",
       "      <th>transaction_id</th>\n",
       "      <th>product_id</th>\n",
       "      <th>customer_id</th>\n",
       "      <th>transaction_date</th>\n",
       "      <th>online_order</th>\n",
       "      <th>order_status</th>\n",
       "      <th>brand</th>\n",
       "      <th>product_line</th>\n",
       "      <th>product_class</th>\n",
       "      <th>product_size</th>\n",
       "      <th>list_price</th>\n",
       "      <th>standard_cost</th>\n",
       "      <th>new_product_id</th>\n",
       "    </tr>\n",
       "  </thead>\n",
       "  <tbody>\n",
       "    <tr>\n",
       "      <th>9</th>\n",
       "      <td>10</td>\n",
       "      <td>12</td>\n",
       "      <td>3262</td>\n",
       "      <td>2017-08-30</td>\n",
       "      <td>True</td>\n",
       "      <td>Approved</td>\n",
       "      <td>WeareA2B</td>\n",
       "      <td>Standard</td>\n",
       "      <td>medium</td>\n",
       "      <td>medium</td>\n",
       "      <td>1231.15</td>\n",
       "      <td>161.60</td>\n",
       "      <td>92</td>\n",
       "    </tr>\n",
       "    <tr>\n",
       "      <th>14</th>\n",
       "      <td>15</td>\n",
       "      <td>12</td>\n",
       "      <td>247</td>\n",
       "      <td>2017-06-11</td>\n",
       "      <td>False</td>\n",
       "      <td>Approved</td>\n",
       "      <td>Giant Bicycles</td>\n",
       "      <td>Standard</td>\n",
       "      <td>medium</td>\n",
       "      <td>large</td>\n",
       "      <td>1765.30</td>\n",
       "      <td>709.48</td>\n",
       "      <td>9</td>\n",
       "    </tr>\n",
       "    <tr>\n",
       "      <th>38</th>\n",
       "      <td>39</td>\n",
       "      <td>12</td>\n",
       "      <td>427</td>\n",
       "      <td>2017-09-12</td>\n",
       "      <td>False</td>\n",
       "      <td>Approved</td>\n",
       "      <td>WeareA2B</td>\n",
       "      <td>Standard</td>\n",
       "      <td>medium</td>\n",
       "      <td>medium</td>\n",
       "      <td>1231.15</td>\n",
       "      <td>161.60</td>\n",
       "      <td>92</td>\n",
       "    </tr>\n",
       "  </tbody>\n",
       "</table>\n",
       "</div>"
      ],
      "text/plain": [
       "    transaction_id  product_id  customer_id transaction_date online_order  \\\n",
       "9               10          12         3262       2017-08-30         True   \n",
       "14              15          12          247       2017-06-11        False   \n",
       "38              39          12          427       2017-09-12        False   \n",
       "\n",
       "   order_status           brand product_line product_class product_size  \\\n",
       "9      Approved        WeareA2B     Standard        medium       medium   \n",
       "14     Approved  Giant Bicycles     Standard        medium        large   \n",
       "38     Approved        WeareA2B     Standard        medium       medium   \n",
       "\n",
       "    list_price  standard_cost  new_product_id  \n",
       "9      1231.15         161.60              92  \n",
       "14     1765.30         709.48               9  \n",
       "38     1231.15         161.60              92  "
      ]
     },
     "execution_count": 121,
     "metadata": {},
     "output_type": "execute_result"
    }
   ],
   "source": [
    "transaction.iloc[:50].query(\"product_id == 12\")"
   ]
  },
  {
   "cell_type": "code",
   "execution_count": 69,
   "id": "bb4e22c7",
   "metadata": {},
   "outputs": [],
   "source": [
    "transaction['new_product_id'] = transaction.groupby(['brand', 'product_line', 'product_class', 'product_size', 'list_price', 'standard_cost']).ngroup()\n"
   ]
  },
  {
   "cell_type": "markdown",
   "id": "66a703b5",
   "metadata": {},
   "source": [
    "## Проверяю, уникален ли id для каждого уникального товара\n",
    "\n",
    "Теперь уникальные по характеристикам модели от Giant Bicycles и WeareA2B имеют разные id."
   ]
  },
  {
   "cell_type": "code",
   "execution_count": 70,
   "id": "7f15bf83",
   "metadata": {},
   "outputs": [
    {
     "data": {
      "text/html": [
       "<div>\n",
       "<style scoped>\n",
       "    .dataframe tbody tr th:only-of-type {\n",
       "        vertical-align: middle;\n",
       "    }\n",
       "\n",
       "    .dataframe tbody tr th {\n",
       "        vertical-align: top;\n",
       "    }\n",
       "\n",
       "    .dataframe thead th {\n",
       "        text-align: right;\n",
       "    }\n",
       "</style>\n",
       "<table border=\"1\" class=\"dataframe\">\n",
       "  <thead>\n",
       "    <tr style=\"text-align: right;\">\n",
       "      <th></th>\n",
       "      <th>product_id</th>\n",
       "      <th>new_product_id</th>\n",
       "      <th>brand</th>\n",
       "      <th>product_line</th>\n",
       "      <th>product_class</th>\n",
       "      <th>product_size</th>\n",
       "      <th>list_price</th>\n",
       "      <th>standard_cost</th>\n",
       "    </tr>\n",
       "  </thead>\n",
       "  <tbody>\n",
       "    <tr>\n",
       "      <th>9</th>\n",
       "      <td>12</td>\n",
       "      <td>92</td>\n",
       "      <td>WeareA2B</td>\n",
       "      <td>Standard</td>\n",
       "      <td>medium</td>\n",
       "      <td>medium</td>\n",
       "      <td>1231.15</td>\n",
       "      <td>161.60</td>\n",
       "    </tr>\n",
       "    <tr>\n",
       "      <th>14</th>\n",
       "      <td>12</td>\n",
       "      <td>9</td>\n",
       "      <td>Giant Bicycles</td>\n",
       "      <td>Standard</td>\n",
       "      <td>medium</td>\n",
       "      <td>large</td>\n",
       "      <td>1765.30</td>\n",
       "      <td>709.48</td>\n",
       "    </tr>\n",
       "  </tbody>\n",
       "</table>\n",
       "</div>"
      ],
      "text/plain": [
       "    product_id  new_product_id           brand product_line product_class  \\\n",
       "9           12              92        WeareA2B     Standard        medium   \n",
       "14          12               9  Giant Bicycles     Standard        medium   \n",
       "\n",
       "   product_size  list_price  standard_cost  \n",
       "9        medium     1231.15         161.60  \n",
       "14        large     1765.30         709.48  "
      ]
     },
     "execution_count": 70,
     "metadata": {},
     "output_type": "execute_result"
    }
   ],
   "source": [
    "transaction[['product_id','new_product_id','brand','product_line','product_class','product_size','list_price','standard_cost']].drop_duplicates().iloc[:50].query(\"product_id == 12\")\n"
   ]
  },
  {
   "cell_type": "markdown",
   "id": "1dfe4c07",
   "metadata": {},
   "source": [
    "## Вставляю правила в transaction"
   ]
  },
  {
   "cell_type": "code",
   "execution_count": 71,
   "id": "cba50794",
   "metadata": {},
   "outputs": [],
   "source": [
    "transaction_script = 'insert into transaction values '\n",
    "def insert_row(row):\n",
    "    global transaction_script\n",
    "    transaction_script = transaction_script + f\"({row['transaction_id']},{row['product_id']},{row['customer_id']},'{row['transaction_date']}',{row['online_order']},'{row['order_status']}'),\\n\"\n",
    "transaction.iloc[:50].apply(insert_row, axis = 1)\n",
    "transaction_script = transaction_script[:-2]"
   ]
  },
  {
   "cell_type": "code",
   "execution_count": 72,
   "id": "e721e28d",
   "metadata": {},
   "outputs": [],
   "source": [
    "try:   \n",
    "    cursor.execute(transaction_script)\n",
    "except OperationalError as e:\n",
    "    print(e)"
   ]
  },
  {
   "cell_type": "markdown",
   "id": "2ea0c512",
   "metadata": {},
   "source": [
    "## Вставляю правила в products"
   ]
  },
  {
   "cell_type": "code",
   "execution_count": 73,
   "id": "c87a157d",
   "metadata": {},
   "outputs": [],
   "source": [
    "products_script = 'insert into products values '\n",
    "def insert_row(row):\n",
    "    global products_script\n",
    "    products_script = products_script + f\"({row['new_product_id']},'{row['brand']}','{row['product_line']}','{row['product_class']}','{row['product_size']}',{row['list_price']},{row['standard_cost']}),\\n\"\n",
    "transaction[['new_product_id','brand','product_line','product_class','product_size','list_price','standard_cost']].drop_duplicates().iloc[:50].apply(insert_row, axis = 1)\n",
    "products_script = products_script[:-2]"
   ]
  },
  {
   "cell_type": "code",
   "execution_count": 74,
   "id": "a3317fdf",
   "metadata": {},
   "outputs": [],
   "source": [
    "try:   \n",
    "    cursor.execute(products_script)\n",
    "except OperationalError as e:\n",
    "    print(e)"
   ]
  },
  {
   "cell_type": "markdown",
   "id": "51802fff",
   "metadata": {},
   "source": [
    "# Заполняю таблицы customer, jobs, addresses\n",
    "\n",
    "Я выделил несколько отдельных сущностей из customer: jobs, adresses. Теперь все атрибуты в этих трех таблицах нетранзитивно зависят от первичного ключа и БД находится в 3НФ.\n",
    "\n",
    "![](images/db_model.png)"
   ]
  },
  {
   "cell_type": "code",
   "execution_count": 10,
   "id": "838b849d",
   "metadata": {},
   "outputs": [
    {
     "data": {
      "text/html": [
       "<div>\n",
       "<style scoped>\n",
       "    .dataframe tbody tr th:only-of-type {\n",
       "        vertical-align: middle;\n",
       "    }\n",
       "\n",
       "    .dataframe tbody tr th {\n",
       "        vertical-align: top;\n",
       "    }\n",
       "\n",
       "    .dataframe thead th {\n",
       "        text-align: right;\n",
       "    }\n",
       "</style>\n",
       "<table border=\"1\" class=\"dataframe\">\n",
       "  <thead>\n",
       "    <tr style=\"text-align: right;\">\n",
       "      <th></th>\n",
       "      <th>job_id</th>\n",
       "      <th>address_id</th>\n",
       "    </tr>\n",
       "  </thead>\n",
       "  <tbody>\n",
       "    <tr>\n",
       "      <th>0</th>\n",
       "      <td>0</td>\n",
       "      <td>0</td>\n",
       "    </tr>\n",
       "    <tr>\n",
       "      <th>1</th>\n",
       "      <td>0</td>\n",
       "      <td>1</td>\n",
       "    </tr>\n",
       "    <tr>\n",
       "      <th>2</th>\n",
       "      <td>0</td>\n",
       "      <td>2</td>\n",
       "    </tr>\n",
       "  </tbody>\n",
       "</table>\n",
       "</div>"
      ],
      "text/plain": [
       "   job_id  address_id\n",
       "0       0           0\n",
       "1       0           1\n",
       "2       0           2"
      ]
     },
     "execution_count": 10,
     "metadata": {},
     "output_type": "execute_result"
    }
   ],
   "source": [
    "# Подготовка таблиц customer и jobs\n",
    "customer.columns\n",
    "jobs = customer[['job_title','job_industry_category']].drop_duplicates()\n",
    "jobs['job_id'] = range(jobs.shape[0])\n",
    "customer = customer.merge(jobs,\n",
    "              how = 'inner',\n",
    "              on = ['job_title','job_industry_category'])\n",
    "customer = customer.drop(['job_title','job_industry_category'], axis = 1)\n",
    "# Подготовка таблицы addresses\n",
    "addresses = customer[['address', 'postcode', 'state', 'country']].drop_duplicates()\n",
    "addresses['address_id'] = range(addresses.shape[0])\n",
    "customer = customer.merge(addresses,\n",
    "              how = 'inner',\n",
    "              on = ['address', 'postcode', 'state', 'country'])\n",
    "customer = customer.drop(['address', 'postcode', 'state', 'country'], axis = 1)\n",
    "customer[['job_id','address_id']].head(3)"
   ]
  },
  {
   "cell_type": "markdown",
   "id": "e5101d94",
   "metadata": {},
   "source": [
    "## Вставляю правила в customer"
   ]
  },
  {
   "cell_type": "code",
   "execution_count": 31,
   "id": "6c899991",
   "metadata": {},
   "outputs": [],
   "source": [
    "customer['last_name'] = customer['last_name'].str.replace(r\"'\", '`')"
   ]
  },
  {
   "cell_type": "code",
   "execution_count": 47,
   "id": "54efee5e",
   "metadata": {},
   "outputs": [],
   "source": [
    "customer_script = 'insert into customer values '\n",
    "def insert_row(row):\n",
    "    global customer_script\n",
    "    if pd.isnull(row['last_name']):\n",
    "        row['last_name'] = 'NULL'\n",
    "        customer_script = customer_script + f'''({row['customer_id']},'{row['first_name']}',{row['last_name']},'{row['gender']}','{row['DOB']}',{row['job_id']},'{row['wealth_segment']}','{row['deceased_indicator']}','{row['owns_car']}',{row['address_id']},{row['property_valuation']}),\\n'''\n",
    "        return None\n",
    "    if pd.isnull(row['DOB']):\n",
    "        row['DOB'] = 'NULL'\n",
    "        customer_script = customer_script + f'''({row['customer_id']},'{row['first_name']}','{row['last_name']}','{row['gender']}',{row['DOB']},{row['job_id']},'{row['wealth_segment']}','{row['deceased_indicator']}','{row['owns_car']}',{row['address_id']},{row['property_valuation']}),\\n'''\n",
    "        return None\n",
    "    customer_script = customer_script + f'''({row['customer_id']},'{row['first_name']}','{row['last_name']}','{row['gender']}','{row['DOB']}',{row['job_id']},'{row['wealth_segment']}','{row['deceased_indicator']}','{row['owns_car']}',{row['address_id']},{row['property_valuation']}),\\n'''\n",
    "    \n",
    "customer.iloc[:50].apply(insert_row, axis = 1)\n",
    "customer_script = customer_script[:-2]"
   ]
  },
  {
   "cell_type": "code",
   "execution_count": 50,
   "id": "82d6b27f",
   "metadata": {},
   "outputs": [],
   "source": [
    "try:   \n",
    "    cursor.execute(customer_script)\n",
    "except OperationalError as e:\n",
    "    print(e)"
   ]
  },
  {
   "cell_type": "markdown",
   "id": "1944f88a",
   "metadata": {},
   "source": [
    "## Вставляю правила в jobs"
   ]
  },
  {
   "cell_type": "code",
   "execution_count": 53,
   "id": "633eac4b",
   "metadata": {},
   "outputs": [
    {
     "data": {
      "text/html": [
       "<div>\n",
       "<style scoped>\n",
       "    .dataframe tbody tr th:only-of-type {\n",
       "        vertical-align: middle;\n",
       "    }\n",
       "\n",
       "    .dataframe tbody tr th {\n",
       "        vertical-align: top;\n",
       "    }\n",
       "\n",
       "    .dataframe thead th {\n",
       "        text-align: right;\n",
       "    }\n",
       "</style>\n",
       "<table border=\"1\" class=\"dataframe\">\n",
       "  <thead>\n",
       "    <tr style=\"text-align: right;\">\n",
       "      <th></th>\n",
       "      <th>job_title</th>\n",
       "      <th>job_industry_category</th>\n",
       "      <th>job_id</th>\n",
       "    </tr>\n",
       "  </thead>\n",
       "  <tbody>\n",
       "    <tr>\n",
       "      <th>0</th>\n",
       "      <td>Executive Secretary</td>\n",
       "      <td>Health</td>\n",
       "      <td>0</td>\n",
       "    </tr>\n",
       "    <tr>\n",
       "      <th>1</th>\n",
       "      <td>Administrative Officer</td>\n",
       "      <td>Financial Services</td>\n",
       "      <td>1</td>\n",
       "    </tr>\n",
       "    <tr>\n",
       "      <th>2</th>\n",
       "      <td>Recruiting Manager</td>\n",
       "      <td>Property</td>\n",
       "      <td>2</td>\n",
       "    </tr>\n",
       "    <tr>\n",
       "      <th>3</th>\n",
       "      <td>NaN</td>\n",
       "      <td>IT</td>\n",
       "      <td>3</td>\n",
       "    </tr>\n",
       "    <tr>\n",
       "      <th>4</th>\n",
       "      <td>Senior Editor</td>\n",
       "      <td>NaN</td>\n",
       "      <td>4</td>\n",
       "    </tr>\n",
       "    <tr>\n",
       "      <th>...</th>\n",
       "      <td>...</td>\n",
       "      <td>...</td>\n",
       "      <td>...</td>\n",
       "    </tr>\n",
       "    <tr>\n",
       "      <th>3953</th>\n",
       "      <td>Human Resources Assistant III</td>\n",
       "      <td>Financial Services</td>\n",
       "      <td>1044</td>\n",
       "    </tr>\n",
       "    <tr>\n",
       "      <th>3954</th>\n",
       "      <td>Geologist II</td>\n",
       "      <td>Argiculture</td>\n",
       "      <td>1045</td>\n",
       "    </tr>\n",
       "    <tr>\n",
       "      <th>3961</th>\n",
       "      <td>Project Manager</td>\n",
       "      <td>Argiculture</td>\n",
       "      <td>1046</td>\n",
       "    </tr>\n",
       "    <tr>\n",
       "      <th>3984</th>\n",
       "      <td>Web Developer IV</td>\n",
       "      <td>Property</td>\n",
       "      <td>1047</td>\n",
       "    </tr>\n",
       "    <tr>\n",
       "      <th>3987</th>\n",
       "      <td>Automation Specialist IV</td>\n",
       "      <td>Health</td>\n",
       "      <td>1048</td>\n",
       "    </tr>\n",
       "  </tbody>\n",
       "</table>\n",
       "<p>1049 rows × 3 columns</p>\n",
       "</div>"
      ],
      "text/plain": [
       "                          job_title job_industry_category  job_id\n",
       "0               Executive Secretary                Health       0\n",
       "1            Administrative Officer    Financial Services       1\n",
       "2                Recruiting Manager              Property       2\n",
       "3                               NaN                    IT       3\n",
       "4                     Senior Editor                   NaN       4\n",
       "...                             ...                   ...     ...\n",
       "3953  Human Resources Assistant III    Financial Services    1044\n",
       "3954                   Geologist II           Argiculture    1045\n",
       "3961                Project Manager           Argiculture    1046\n",
       "3984               Web Developer IV              Property    1047\n",
       "3987       Automation Specialist IV                Health    1048\n",
       "\n",
       "[1049 rows x 3 columns]"
      ]
     },
     "execution_count": 53,
     "metadata": {},
     "output_type": "execute_result"
    }
   ],
   "source": [
    "jobs"
   ]
  },
  {
   "cell_type": "code",
   "execution_count": 57,
   "id": "5ca616cd",
   "metadata": {},
   "outputs": [],
   "source": [
    "jobs_script = 'insert into jobs values '\n",
    "def insert_row(row):\n",
    "    global jobs_script\n",
    "    jobs_script = jobs_script + f'''({row['job_id']},'{row['job_title']}','{row['job_industry_category']}'),\\n'''\n",
    "    \n",
    "jobs.apply(insert_row, axis = 1)\n",
    "jobs_script = jobs_script[:-2]"
   ]
  },
  {
   "cell_type": "code",
   "execution_count": 61,
   "id": "72a5446d",
   "metadata": {},
   "outputs": [],
   "source": [
    "try:   \n",
    "    cursor.execute(jobs_script)\n",
    "except OperationalError as e:\n",
    "    print(e)"
   ]
  },
  {
   "cell_type": "markdown",
   "id": "e9997bec",
   "metadata": {},
   "source": [
    "## Вставляю правила в addresses"
   ]
  },
  {
   "cell_type": "code",
   "execution_count": 62,
   "id": "adf677eb",
   "metadata": {},
   "outputs": [
    {
     "data": {
      "text/plain": [
       "Index(['address', 'postcode', 'state', 'country', 'address_id'], dtype='object')"
      ]
     },
     "execution_count": 62,
     "metadata": {},
     "output_type": "execute_result"
    }
   ],
   "source": [
    "addresses.columns"
   ]
  },
  {
   "cell_type": "code",
   "execution_count": 63,
   "id": "0ca172a4",
   "metadata": {},
   "outputs": [],
   "source": [
    "addresses_script = 'insert into addresses values '\n",
    "def insert_row(row):\n",
    "    global addresses_script\n",
    "    addresses_script = addresses_script + f'''({row['address_id']},'{row['address']}',{row['postcode']},'{row['state']}','{row['country']}'),\\n'''\n",
    "    \n",
    "addresses.apply(insert_row, axis = 1)\n",
    "addresses_script = addresses_script[:-2]"
   ]
  },
  {
   "cell_type": "code",
   "execution_count": 65,
   "id": "b8a413c8",
   "metadata": {},
   "outputs": [],
   "source": [
    "try:   \n",
    "    cursor.execute(addresses_script)\n",
    "except OperationalError as e:\n",
    "    print(e)"
   ]
  },
  {
   "cell_type": "code",
   "execution_count": 75,
   "id": "5d8004c0",
   "metadata": {},
   "outputs": [],
   "source": [
    "connection.commit()"
   ]
  },
  {
   "cell_type": "code",
   "execution_count": 76,
   "id": "6349f737",
   "metadata": {},
   "outputs": [],
   "source": [
    "cursor.close()\n",
    "connection.close()"
   ]
  },
  {
   "cell_type": "code",
   "execution_count": null,
   "id": "925f4261",
   "metadata": {},
   "outputs": [],
   "source": []
  }
 ],
 "metadata": {
  "kernelspec": {
   "display_name": "Python 3 (ipykernel)",
   "language": "python",
   "name": "python3"
  },
  "language_info": {
   "codemirror_mode": {
    "name": "ipython",
    "version": 3
   },
   "file_extension": ".py",
   "mimetype": "text/x-python",
   "name": "python",
   "nbconvert_exporter": "python",
   "pygments_lexer": "ipython3",
   "version": "3.9.18"
  }
 },
 "nbformat": 4,
 "nbformat_minor": 5
}
