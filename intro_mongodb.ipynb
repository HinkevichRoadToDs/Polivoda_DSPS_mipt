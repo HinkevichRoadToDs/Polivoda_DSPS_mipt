{
 "cells": [
  {
   "cell_type": "code",
   "execution_count": 29,
   "metadata": {
    "collapsed": true
   },
   "outputs": [],
   "source": [
    "import pandas as pd\n",
    "import numpy as np\n",
    "import warnings\n",
    "import pymongo\n",
    "import os\n",
    "import certifi\n",
    "from dotenv import load_dotenv\n",
    "warnings.filterwarnings('ignore')\n",
    "warnings.warn('DelftStack')\n",
    "warnings.warn('Do not show this message')"
   ]
  },
  {
   "cell_type": "code",
   "execution_count": 5,
   "outputs": [],
   "source": [
    "load_dotenv()\n",
    "mongodb_user = os.getenv(\"mongodb_user\")\n",
    "mongodb_password = os.getenv(\"mongodb_password\")\n",
    "cluster = os.getenv(\"cluster\")"
   ],
   "metadata": {
    "collapsed": false
   }
  },
  {
   "cell_type": "code",
   "execution_count": 37,
   "outputs": [
    {
     "name": "stdout",
     "output_type": "stream",
     "text": [
      "['my_database', 'sample_airbnb', 'sample_analytics', 'sample_geospatial', 'sample_guides', 'sample_mflix', 'sample_restaurants', 'sample_supplies', 'sample_training', 'sample_weatherdata', 'admin', 'local']\n"
     ]
    }
   ],
   "source": [
    "client = pymongo.MongoClient(f\"mongodb+srv://{mongodb_user}:{mongodb_password}@{cluster}\",\n",
    "                             tlsCAFile=certifi.where())\n",
    "\n",
    "print(client.list_database_names())"
   ],
   "metadata": {
    "collapsed": false
   }
  },
  {
   "cell_type": "code",
   "execution_count": 39,
   "outputs": [],
   "source": [
    "db = client.my_database\n",
    "#db.create_collection(\"people\")"
   ],
   "metadata": {
    "collapsed": false
   }
  },
  {
   "cell_type": "code",
   "execution_count": 36,
   "outputs": [
    {
     "name": "stdout",
     "output_type": "stream",
     "text": [
      "[{'name': 'people', 'type': 'collection', 'options': {}, 'info': {'readOnly': False, 'uuid': Binary(b\"~ \\xc0b8\\xefN{\\x96\\xd3o\\xfb\\x82'{\\xd7\", 4)}, 'idIndex': {'v': 2, 'key': {'_id': 1}, 'name': '_id_'}}]\n"
     ]
    }
   ],
   "source": [
    "print(list(db.list_collections()))"
   ],
   "metadata": {
    "collapsed": false
   }
  },
  {
   "cell_type": "markdown",
   "source": [
    "# CRUD-операции"
   ],
   "metadata": {
    "collapsed": false
   }
  },
  {
   "cell_type": "code",
   "execution_count": 46,
   "outputs": [],
   "source": [
    "# список словарей\n",
    "data = [{\"name\": 'Jazmin Kowacek', \"email\" : \"mongo_test@kowacek.com\", \"age\": 30},\n",
    "        {\"name\": 'Deny Bosco', \"email\" : \"mongo_test@bosco.com\",\"age\": 37}]"
   ],
   "metadata": {
    "collapsed": false
   }
  },
  {
   "cell_type": "code",
   "execution_count": 47,
   "outputs": [
    {
     "data": {
      "text/plain": "True"
     },
     "execution_count": 47,
     "metadata": {},
     "output_type": "execute_result"
    }
   ],
   "source": [
    "# вставка\n",
    "collection = db.people\n",
    "insert_result = collection.insert_many(data)\n",
    "insert_result.acknowledged"
   ],
   "metadata": {
    "collapsed": false
   }
  },
  {
   "cell_type": "code",
   "execution_count": 48,
   "outputs": [
    {
     "data": {
      "text/plain": "[{'_id': ObjectId('65dc8a75edb1a5066bc10664'),\n  'name': 'Jazmin Kowacek',\n  'email': 'mongo_test@kowacek.com'},\n {'_id': ObjectId('65dc8bf3edb1a5066bc10666'),\n  'name': 'Jazmin Kowacek',\n  'email': 'mongo_test@kowacek.com',\n  'age': 30}]"
     },
     "execution_count": 48,
     "metadata": {},
     "output_type": "execute_result"
    }
   ],
   "source": [
    "# выборка\n",
    "list(collection.find({\"name\": 'Jazmin Kowacek'}))"
   ],
   "metadata": {
    "collapsed": false
   }
  },
  {
   "cell_type": "code",
   "execution_count": 49,
   "outputs": [
    {
     "data": {
      "text/plain": "[{'_id': ObjectId('65dc8a75edb1a5066bc10664'),\n  'name': 'Jazmin Kowacek',\n  'email': 'mongo_test@kowacek.com'},\n {'_id': ObjectId('65dc8bf3edb1a5066bc10666'),\n  'name': 'Jazmin Kowacek',\n  'email': 'mongo_test@kowacek.com',\n  'age': 30}]"
     },
     "execution_count": 49,
     "metadata": {},
     "output_type": "execute_result"
    }
   ],
   "source": [
    "# используя регулярку\n",
    "list(collection.find({\"name\": {'$regex' : '^Jaz'}}))"
   ],
   "metadata": {
    "collapsed": false
   }
  },
  {
   "cell_type": "code",
   "execution_count": 54,
   "outputs": [
    {
     "data": {
      "text/plain": "[{'_id': ObjectId('65dc8bf3edb1a5066bc10667'),\n  'name': 'Deny Bosco',\n  'email': 'mongo_test@bosco.com',\n  'age': 37,\n  'isOlder': True}]"
     },
     "execution_count": 54,
     "metadata": {},
     "output_type": "execute_result"
    }
   ],
   "source": [
    "# логическое выражение\n",
    "list(collection.find({\"age\": {'$gt' : 35}}))"
   ],
   "metadata": {
    "collapsed": false
   }
  },
  {
   "cell_type": "code",
   "execution_count": 53,
   "outputs": [
    {
     "data": {
      "text/plain": "UpdateResult({'n': 1, 'electionId': ObjectId('7fffffff00000000000000f4'), 'opTime': {'ts': Timestamp(1708956451, 17), 't': 244}, 'nModified': 1, 'ok': 1.0, '$clusterTime': {'clusterTime': Timestamp(1708956451, 17), 'signature': {'hash': b'\\x1cp4\\x9e\\x19-\\xfc\\xaa\\x04\\x8e@;\\xeePi0\\x10\\xae\\xd5\\xb7', 'keyId': 7298198138068664322}}, 'operationTime': Timestamp(1708956451, 17), 'updatedExisting': True}, acknowledged=True)"
     },
     "execution_count": 53,
     "metadata": {},
     "output_type": "execute_result"
    }
   ],
   "source": [
    "# обновление документов\n",
    "collection.update_one(\n",
    "    {\"age\": {'$gt' : 35}}, {\"$set\": {'isOlder': True}}\n",
    ")"
   ],
   "metadata": {
    "collapsed": false
   }
  },
  {
   "cell_type": "code",
   "execution_count": null,
   "outputs": [],
   "source": [],
   "metadata": {
    "collapsed": false
   }
  }
 ],
 "metadata": {
  "kernelspec": {
   "display_name": "Python 3",
   "language": "python",
   "name": "python3"
  },
  "language_info": {
   "codemirror_mode": {
    "name": "ipython",
    "version": 2
   },
   "file_extension": ".py",
   "mimetype": "text/x-python",
   "name": "python",
   "nbconvert_exporter": "python",
   "pygments_lexer": "ipython2",
   "version": "2.7.6"
  }
 },
 "nbformat": 4,
 "nbformat_minor": 0
}
