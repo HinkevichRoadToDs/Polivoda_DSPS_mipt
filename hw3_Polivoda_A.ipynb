{
 "cells": [
  {
   "cell_type": "code",
   "execution_count": 2,
   "metadata": {
    "collapsed": true
   },
   "outputs": [],
   "source": [
    "import psycopg2 as pg\n",
    "from psycopg2 import OperationalError\n",
    "import pandas as pd\n",
    "import numpy as np\n",
    "import warnings\n",
    "import os\n",
    "from dotenv import load_dotenv\n",
    "warnings.filterwarnings('ignore')\n",
    "warnings.warn('DelftStack')\n",
    "warnings.warn('Do not show this message')"
   ]
  },
  {
   "cell_type": "code",
   "execution_count": 11,
   "outputs": [],
   "source": [
    "load_dotenv()\n",
    "password = os.getenv('DBPASSWORD')"
   ],
   "metadata": {
    "collapsed": false
   }
  },
  {
   "cell_type": "code",
   "execution_count": 12,
   "outputs": [],
   "source": [
    "connection = pg.connect(dbname = 'postgres',\n",
    "                       host = 'localhost',\n",
    "                       user = 'postgres',\n",
    "                       password = password,\n",
    "                       port = 5432)\n",
    "cursor = connection.cursor()"
   ],
   "metadata": {
    "collapsed": false
   }
  },
  {
   "cell_type": "markdown",
   "source": [
    "# Схема БД\n",
    "\n",
    "![](images/db_model.png)"
   ],
   "metadata": {
    "collapsed": false
   }
  },
  {
   "cell_type": "markdown",
   "source": [
    "Вывести распределение (количество) клиентов по сферам деятельности, отсортировав результат по убыванию количества."
   ],
   "metadata": {
    "collapsed": false
   }
  },
  {
   "cell_type": "code",
   "execution_count": 22,
   "outputs": [
    {
     "data": {
      "text/plain": "                    0    1\n0       Manufacturing  149\n1                 nan  144\n2  Financial Services  144\n3              Health  128\n4            Property  108\n5              Retail  107\n6                  IT  100\n7         Argiculture   67\n8       Entertainment   53\n9  Telecommunications   49",
      "text/html": "<div>\n<style scoped>\n    .dataframe tbody tr th:only-of-type {\n        vertical-align: middle;\n    }\n\n    .dataframe tbody tr th {\n        vertical-align: top;\n    }\n\n    .dataframe thead th {\n        text-align: right;\n    }\n</style>\n<table border=\"1\" class=\"dataframe\">\n  <thead>\n    <tr style=\"text-align: right;\">\n      <th></th>\n      <th>0</th>\n      <th>1</th>\n    </tr>\n  </thead>\n  <tbody>\n    <tr>\n      <th>0</th>\n      <td>Manufacturing</td>\n      <td>149</td>\n    </tr>\n    <tr>\n      <th>1</th>\n      <td>nan</td>\n      <td>144</td>\n    </tr>\n    <tr>\n      <th>2</th>\n      <td>Financial Services</td>\n      <td>144</td>\n    </tr>\n    <tr>\n      <th>3</th>\n      <td>Health</td>\n      <td>128</td>\n    </tr>\n    <tr>\n      <th>4</th>\n      <td>Property</td>\n      <td>108</td>\n    </tr>\n    <tr>\n      <th>5</th>\n      <td>Retail</td>\n      <td>107</td>\n    </tr>\n    <tr>\n      <th>6</th>\n      <td>IT</td>\n      <td>100</td>\n    </tr>\n    <tr>\n      <th>7</th>\n      <td>Argiculture</td>\n      <td>67</td>\n    </tr>\n    <tr>\n      <th>8</th>\n      <td>Entertainment</td>\n      <td>53</td>\n    </tr>\n    <tr>\n      <th>9</th>\n      <td>Telecommunications</td>\n      <td>49</td>\n    </tr>\n  </tbody>\n</table>\n</div>"
     },
     "execution_count": 22,
     "metadata": {},
     "output_type": "execute_result"
    }
   ],
   "source": [
    "cursor.execute('''\n",
    "select job_industry_category, count(job_id)\n",
    "from jobs\n",
    "group by job_industry_category\n",
    "order by count(job_id) DESC\n",
    "''')\n",
    "pd.DataFrame(cursor.fetchall())"
   ],
   "metadata": {
    "collapsed": false
   }
  },
  {
   "cell_type": "markdown",
   "source": [
    "Найти сумму транзакций за каждый месяц по сферам деятельности, отсортировав по месяцам и по сфере деятельности."
   ],
   "metadata": {
    "collapsed": false
   }
  },
  {
   "cell_type": "code",
   "execution_count": 34,
   "outputs": [
    {
     "data": {
      "text/plain": "      0                   1    2\n0     1         Argiculture   41\n1     1       Entertainment   58\n2     1  Financial Services  319\n3     1              Health  261\n4     1                  IT  100\n..   ..                 ...  ...\n115  12       Manufacturing  299\n116  12            Property  117\n117  12              Retail  140\n118  12  Telecommunications   26\n119  12                 nan  260\n\n[120 rows x 3 columns]",
      "text/html": "<div>\n<style scoped>\n    .dataframe tbody tr th:only-of-type {\n        vertical-align: middle;\n    }\n\n    .dataframe tbody tr th {\n        vertical-align: top;\n    }\n\n    .dataframe thead th {\n        text-align: right;\n    }\n</style>\n<table border=\"1\" class=\"dataframe\">\n  <thead>\n    <tr style=\"text-align: right;\">\n      <th></th>\n      <th>0</th>\n      <th>1</th>\n      <th>2</th>\n    </tr>\n  </thead>\n  <tbody>\n    <tr>\n      <th>0</th>\n      <td>1</td>\n      <td>Argiculture</td>\n      <td>41</td>\n    </tr>\n    <tr>\n      <th>1</th>\n      <td>1</td>\n      <td>Entertainment</td>\n      <td>58</td>\n    </tr>\n    <tr>\n      <th>2</th>\n      <td>1</td>\n      <td>Financial Services</td>\n      <td>319</td>\n    </tr>\n    <tr>\n      <th>3</th>\n      <td>1</td>\n      <td>Health</td>\n      <td>261</td>\n    </tr>\n    <tr>\n      <th>4</th>\n      <td>1</td>\n      <td>IT</td>\n      <td>100</td>\n    </tr>\n    <tr>\n      <th>...</th>\n      <td>...</td>\n      <td>...</td>\n      <td>...</td>\n    </tr>\n    <tr>\n      <th>115</th>\n      <td>12</td>\n      <td>Manufacturing</td>\n      <td>299</td>\n    </tr>\n    <tr>\n      <th>116</th>\n      <td>12</td>\n      <td>Property</td>\n      <td>117</td>\n    </tr>\n    <tr>\n      <th>117</th>\n      <td>12</td>\n      <td>Retail</td>\n      <td>140</td>\n    </tr>\n    <tr>\n      <th>118</th>\n      <td>12</td>\n      <td>Telecommunications</td>\n      <td>26</td>\n    </tr>\n    <tr>\n      <th>119</th>\n      <td>12</td>\n      <td>nan</td>\n      <td>260</td>\n    </tr>\n  </tbody>\n</table>\n<p>120 rows × 3 columns</p>\n</div>"
     },
     "execution_count": 34,
     "metadata": {},
     "output_type": "execute_result"
    }
   ],
   "source": [
    "cursor.execute('''\n",
    "select EXTRACT(month FROM cast(transaction_date as TIMESTAMP)) as month,\n",
    "job_industry_category,\n",
    "COUNT(transaction_id)\n",
    "from transaction\n",
    "inner join customer on transaction.customer_id = customer.customer_id\n",
    "inner join jobs on jobs.job_id = customer.job_id\n",
    "group by month,job_industry_category\n",
    "order by month,job_industry_category\n",
    "''')\n",
    "pd.DataFrame(cursor.fetchall())"
   ],
   "metadata": {
    "collapsed": false
   }
  },
  {
   "cell_type": "markdown",
   "source": [
    "Вывести количество онлайн-заказов для всех брендов в рамках подтвержденных заказов клиентов из сферы IT."
   ],
   "metadata": {
    "collapsed": false
   }
  },
  {
   "cell_type": "code",
   "execution_count": 48,
   "outputs": [
    {
     "data": {
      "text/plain": "                0    1\n0      OHM Cycles   88\n1        WeareA2B   74\n2   Trek Bicycles   66\n3           Solex  105\n4  Norco Bicycles   72\n5  Giant Bicycles  135",
      "text/html": "<div>\n<style scoped>\n    .dataframe tbody tr th:only-of-type {\n        vertical-align: middle;\n    }\n\n    .dataframe tbody tr th {\n        vertical-align: top;\n    }\n\n    .dataframe thead th {\n        text-align: right;\n    }\n</style>\n<table border=\"1\" class=\"dataframe\">\n  <thead>\n    <tr style=\"text-align: right;\">\n      <th></th>\n      <th>0</th>\n      <th>1</th>\n    </tr>\n  </thead>\n  <tbody>\n    <tr>\n      <th>0</th>\n      <td>OHM Cycles</td>\n      <td>88</td>\n    </tr>\n    <tr>\n      <th>1</th>\n      <td>WeareA2B</td>\n      <td>74</td>\n    </tr>\n    <tr>\n      <th>2</th>\n      <td>Trek Bicycles</td>\n      <td>66</td>\n    </tr>\n    <tr>\n      <th>3</th>\n      <td>Solex</td>\n      <td>105</td>\n    </tr>\n    <tr>\n      <th>4</th>\n      <td>Norco Bicycles</td>\n      <td>72</td>\n    </tr>\n    <tr>\n      <th>5</th>\n      <td>Giant Bicycles</td>\n      <td>135</td>\n    </tr>\n  </tbody>\n</table>\n</div>"
     },
     "execution_count": 48,
     "metadata": {},
     "output_type": "execute_result"
    }
   ],
   "source": [
    "cursor.execute('''\n",
    "select brand,\n",
    "COUNT(transaction_id)\n",
    "from transaction\n",
    "inner join products on transaction.product_id = products.product_id\n",
    "inner join customer on transaction.customer_id = customer.customer_id\n",
    "inner join jobs on jobs.job_id = customer.job_id\n",
    "where job_industry_category = 'IT'\n",
    "and order_status = 'Approved'\n",
    "and online_order = TRUE\n",
    "group by brand\n",
    "''')\n",
    "pd.DataFrame(cursor.fetchall())"
   ],
   "metadata": {
    "collapsed": false
   }
  },
  {
   "cell_type": "markdown",
   "source": [
    "Найти по всем клиентам сумму всех транзакций (list_price), максимум, минимум и количество транзакций, отсортировав результат по убыванию суммы транзакций и количества клиентов. Выполните двумя способами: используя только group by и используя только оконные функции. Сравните результат.\n",
    "### group by - каждая строка будет содержать уникальные имя, фамилию и результат агрегирующей функции"
   ],
   "metadata": {
    "collapsed": false
   }
  },
  {
   "cell_type": "code",
   "execution_count": 54,
   "outputs": [
    {
     "data": {
      "text/plain": "              0         1         2        3       4   5\n0     Corabelle      None  18932.18  1992.93   12.01  18\n1        Frazer  Searston  19897.83  2005.66  290.62  14\n2        Jillie    Fyndon  14540.49  1810.00  358.39  14\n3           Hal   Braddon  14171.59  1873.97   60.34  14\n4      Kristien  Robberts  16342.95  1977.36   60.34  13\n...         ...       ...       ...      ...     ...  ..\n3486     Hannie    Wodham    499.53   499.53  499.53   1\n3487     Barney   Tilling    416.98   416.98  416.98   1\n3488      Hinze   Bullent    290.62   290.62  290.62   1\n3489    Leonora   Iglesia    230.91   230.91  230.91   1\n3490      Reyna  Braizier    100.35   100.35  100.35   1\n\n[3491 rows x 6 columns]",
      "text/html": "<div>\n<style scoped>\n    .dataframe tbody tr th:only-of-type {\n        vertical-align: middle;\n    }\n\n    .dataframe tbody tr th {\n        vertical-align: top;\n    }\n\n    .dataframe thead th {\n        text-align: right;\n    }\n</style>\n<table border=\"1\" class=\"dataframe\">\n  <thead>\n    <tr style=\"text-align: right;\">\n      <th></th>\n      <th>0</th>\n      <th>1</th>\n      <th>2</th>\n      <th>3</th>\n      <th>4</th>\n      <th>5</th>\n    </tr>\n  </thead>\n  <tbody>\n    <tr>\n      <th>0</th>\n      <td>Corabelle</td>\n      <td>None</td>\n      <td>18932.18</td>\n      <td>1992.93</td>\n      <td>12.01</td>\n      <td>18</td>\n    </tr>\n    <tr>\n      <th>1</th>\n      <td>Frazer</td>\n      <td>Searston</td>\n      <td>19897.83</td>\n      <td>2005.66</td>\n      <td>290.62</td>\n      <td>14</td>\n    </tr>\n    <tr>\n      <th>2</th>\n      <td>Jillie</td>\n      <td>Fyndon</td>\n      <td>14540.49</td>\n      <td>1810.00</td>\n      <td>358.39</td>\n      <td>14</td>\n    </tr>\n    <tr>\n      <th>3</th>\n      <td>Hal</td>\n      <td>Braddon</td>\n      <td>14171.59</td>\n      <td>1873.97</td>\n      <td>60.34</td>\n      <td>14</td>\n    </tr>\n    <tr>\n      <th>4</th>\n      <td>Kristien</td>\n      <td>Robberts</td>\n      <td>16342.95</td>\n      <td>1977.36</td>\n      <td>60.34</td>\n      <td>13</td>\n    </tr>\n    <tr>\n      <th>...</th>\n      <td>...</td>\n      <td>...</td>\n      <td>...</td>\n      <td>...</td>\n      <td>...</td>\n      <td>...</td>\n    </tr>\n    <tr>\n      <th>3486</th>\n      <td>Hannie</td>\n      <td>Wodham</td>\n      <td>499.53</td>\n      <td>499.53</td>\n      <td>499.53</td>\n      <td>1</td>\n    </tr>\n    <tr>\n      <th>3487</th>\n      <td>Barney</td>\n      <td>Tilling</td>\n      <td>416.98</td>\n      <td>416.98</td>\n      <td>416.98</td>\n      <td>1</td>\n    </tr>\n    <tr>\n      <th>3488</th>\n      <td>Hinze</td>\n      <td>Bullent</td>\n      <td>290.62</td>\n      <td>290.62</td>\n      <td>290.62</td>\n      <td>1</td>\n    </tr>\n    <tr>\n      <th>3489</th>\n      <td>Leonora</td>\n      <td>Iglesia</td>\n      <td>230.91</td>\n      <td>230.91</td>\n      <td>230.91</td>\n      <td>1</td>\n    </tr>\n    <tr>\n      <th>3490</th>\n      <td>Reyna</td>\n      <td>Braizier</td>\n      <td>100.35</td>\n      <td>100.35</td>\n      <td>100.35</td>\n      <td>1</td>\n    </tr>\n  </tbody>\n</table>\n<p>3491 rows × 6 columns</p>\n</div>"
     },
     "execution_count": 54,
     "metadata": {},
     "output_type": "execute_result"
    }
   ],
   "source": [
    "cursor.execute('''\n",
    "select first_name,last_name,\n",
    "SUM(list_price), MAX(list_price), MIN(list_price), COUNT(transaction_id)\n",
    "from transaction\n",
    "inner join products on transaction.product_id = products.product_id\n",
    "inner join customer on transaction.customer_id = customer.customer_id\n",
    "group by first_name,last_name\n",
    "ORDER BY COUNT(transaction_id) DESC, SUM(list_price) DESC\n",
    "''')\n",
    "pd.DataFrame(cursor.fetchall())"
   ],
   "metadata": {
    "collapsed": false
   }
  },
  {
   "cell_type": "markdown",
   "source": [
    "### оконные функции выведутся все записи из transaction по каждому клиенту"
   ],
   "metadata": {
    "collapsed": false
   }
  },
  {
   "cell_type": "code",
   "execution_count": 67,
   "outputs": [
    {
     "data": {
      "text/plain": "             0         1         2        3       4   5\n0       Frazer  Searston  19897.83  2005.66  290.62  14\n1       Frazer  Searston  19897.83  2005.66  290.62  14\n2       Frazer  Searston  19897.83  2005.66  290.62  14\n3       Frazer  Searston  19897.83  2005.66  290.62  14\n4       Frazer  Searston  19897.83  2005.66  290.62  14\n...        ...       ...       ...      ...     ...  ..\n19992   Hannie    Wodham    499.53   499.53  499.53   1\n19993   Barney   Tilling    416.98   416.98  416.98   1\n19994    Hinze   Bullent    290.62   290.62  290.62   1\n19995  Leonora   Iglesia    230.91   230.91  230.91   1\n19996    Reyna  Braizier    100.35   100.35  100.35   1\n\n[19997 rows x 6 columns]",
      "text/html": "<div>\n<style scoped>\n    .dataframe tbody tr th:only-of-type {\n        vertical-align: middle;\n    }\n\n    .dataframe tbody tr th {\n        vertical-align: top;\n    }\n\n    .dataframe thead th {\n        text-align: right;\n    }\n</style>\n<table border=\"1\" class=\"dataframe\">\n  <thead>\n    <tr style=\"text-align: right;\">\n      <th></th>\n      <th>0</th>\n      <th>1</th>\n      <th>2</th>\n      <th>3</th>\n      <th>4</th>\n      <th>5</th>\n    </tr>\n  </thead>\n  <tbody>\n    <tr>\n      <th>0</th>\n      <td>Frazer</td>\n      <td>Searston</td>\n      <td>19897.83</td>\n      <td>2005.66</td>\n      <td>290.62</td>\n      <td>14</td>\n    </tr>\n    <tr>\n      <th>1</th>\n      <td>Frazer</td>\n      <td>Searston</td>\n      <td>19897.83</td>\n      <td>2005.66</td>\n      <td>290.62</td>\n      <td>14</td>\n    </tr>\n    <tr>\n      <th>2</th>\n      <td>Frazer</td>\n      <td>Searston</td>\n      <td>19897.83</td>\n      <td>2005.66</td>\n      <td>290.62</td>\n      <td>14</td>\n    </tr>\n    <tr>\n      <th>3</th>\n      <td>Frazer</td>\n      <td>Searston</td>\n      <td>19897.83</td>\n      <td>2005.66</td>\n      <td>290.62</td>\n      <td>14</td>\n    </tr>\n    <tr>\n      <th>4</th>\n      <td>Frazer</td>\n      <td>Searston</td>\n      <td>19897.83</td>\n      <td>2005.66</td>\n      <td>290.62</td>\n      <td>14</td>\n    </tr>\n    <tr>\n      <th>...</th>\n      <td>...</td>\n      <td>...</td>\n      <td>...</td>\n      <td>...</td>\n      <td>...</td>\n      <td>...</td>\n    </tr>\n    <tr>\n      <th>19992</th>\n      <td>Hannie</td>\n      <td>Wodham</td>\n      <td>499.53</td>\n      <td>499.53</td>\n      <td>499.53</td>\n      <td>1</td>\n    </tr>\n    <tr>\n      <th>19993</th>\n      <td>Barney</td>\n      <td>Tilling</td>\n      <td>416.98</td>\n      <td>416.98</td>\n      <td>416.98</td>\n      <td>1</td>\n    </tr>\n    <tr>\n      <th>19994</th>\n      <td>Hinze</td>\n      <td>Bullent</td>\n      <td>290.62</td>\n      <td>290.62</td>\n      <td>290.62</td>\n      <td>1</td>\n    </tr>\n    <tr>\n      <th>19995</th>\n      <td>Leonora</td>\n      <td>Iglesia</td>\n      <td>230.91</td>\n      <td>230.91</td>\n      <td>230.91</td>\n      <td>1</td>\n    </tr>\n    <tr>\n      <th>19996</th>\n      <td>Reyna</td>\n      <td>Braizier</td>\n      <td>100.35</td>\n      <td>100.35</td>\n      <td>100.35</td>\n      <td>1</td>\n    </tr>\n  </tbody>\n</table>\n<p>19997 rows × 6 columns</p>\n</div>"
     },
     "execution_count": 67,
     "metadata": {},
     "output_type": "execute_result"
    }
   ],
   "source": [
    "cursor.execute('''\n",
    "select first_name,last_name,\n",
    "SUM(list_price) OVER(PARTITION BY customer.customer_id),\n",
    "MAX(list_price) OVER(PARTITION BY customer.customer_id),\n",
    "MIN(list_price) OVER(PARTITION BY customer.customer_id),\n",
    "COUNT(transaction_id) OVER(PARTITION BY customer.customer_id)\n",
    "from transaction\n",
    "inner join products on transaction.product_id = products.product_id\n",
    "inner join customer on transaction.customer_id = customer.customer_id\n",
    "ORDER BY COUNT(transaction_id) OVER(PARTITION BY customer.customer_id) DESC,\n",
    "SUM(list_price) OVER(PARTITION BY customer.customer_id) DESC\n",
    "''')\n",
    "pd.DataFrame(cursor.fetchall())"
   ],
   "metadata": {
    "collapsed": false
   }
  },
  {
   "cell_type": "markdown",
   "source": [
    "Найти имена и фамилии клиентов с минимальной/максимальной суммой транзакций за весь период (сумма транзакций не может быть null). Напишите отдельные запросы для минимальной и максимальной суммы."
   ],
   "metadata": {
    "collapsed": false
   }
  },
  {
   "cell_type": "code",
   "execution_count": 76,
   "outputs": [
    {
     "data": {
      "text/plain": "       0         1       2\n0  Reyna  Braizier  100.35",
      "text/html": "<div>\n<style scoped>\n    .dataframe tbody tr th:only-of-type {\n        vertical-align: middle;\n    }\n\n    .dataframe tbody tr th {\n        vertical-align: top;\n    }\n\n    .dataframe thead th {\n        text-align: right;\n    }\n</style>\n<table border=\"1\" class=\"dataframe\">\n  <thead>\n    <tr style=\"text-align: right;\">\n      <th></th>\n      <th>0</th>\n      <th>1</th>\n      <th>2</th>\n    </tr>\n  </thead>\n  <tbody>\n    <tr>\n      <th>0</th>\n      <td>Reyna</td>\n      <td>Braizier</td>\n      <td>100.35</td>\n    </tr>\n  </tbody>\n</table>\n</div>"
     },
     "execution_count": 76,
     "metadata": {},
     "output_type": "execute_result"
    }
   ],
   "source": [
    "# Минимальная сумма транзакций\n",
    "cursor.execute('''\n",
    "select first_name,last_name,\n",
    "SUM(list_price)\n",
    "from transaction\n",
    "inner join products on transaction.product_id = products.product_id\n",
    "inner join customer on transaction.customer_id = customer.customer_id\n",
    "group by first_name,last_name\n",
    "ORDER BY SUM(list_price) ASC\n",
    "LIMIT 1\n",
    "''')\n",
    "pd.DataFrame(cursor.fetchall())"
   ],
   "metadata": {
    "collapsed": false
   }
  },
  {
   "cell_type": "code",
   "execution_count": 77,
   "outputs": [
    {
     "data": {
      "text/plain": "        0         1         2\n0  Frazer  Searston  19897.83",
      "text/html": "<div>\n<style scoped>\n    .dataframe tbody tr th:only-of-type {\n        vertical-align: middle;\n    }\n\n    .dataframe tbody tr th {\n        vertical-align: top;\n    }\n\n    .dataframe thead th {\n        text-align: right;\n    }\n</style>\n<table border=\"1\" class=\"dataframe\">\n  <thead>\n    <tr style=\"text-align: right;\">\n      <th></th>\n      <th>0</th>\n      <th>1</th>\n      <th>2</th>\n    </tr>\n  </thead>\n  <tbody>\n    <tr>\n      <th>0</th>\n      <td>Frazer</td>\n      <td>Searston</td>\n      <td>19897.83</td>\n    </tr>\n  </tbody>\n</table>\n</div>"
     },
     "execution_count": 77,
     "metadata": {},
     "output_type": "execute_result"
    }
   ],
   "source": [
    "# Максимальная сумма транзакций\n",
    "cursor.execute('''\n",
    "select first_name,last_name,\n",
    "SUM(list_price)\n",
    "from transaction\n",
    "inner join products on transaction.product_id = products.product_id\n",
    "inner join customer on transaction.customer_id = customer.customer_id\n",
    "group by first_name,last_name\n",
    "ORDER BY SUM(list_price) DESC\n",
    "LIMIT 1\n",
    "''')\n",
    "pd.DataFrame(cursor.fetchall())"
   ],
   "metadata": {
    "collapsed": false
   }
  },
  {
   "cell_type": "markdown",
   "source": [
    "Вывести только самые первые транзакции клиентов. Решить с помощью оконных функций."
   ],
   "metadata": {
    "collapsed": false
   }
  },
  {
   "cell_type": "code",
   "execution_count": 89,
   "outputs": [
    {
     "data": {
      "text/plain": "            0           1      2\n0      Aarika       Magog   3870\n1      Aarika  Van Vuuren  16606\n2     Abagail    Tordiffe    933\n3        Abba     Masedon  11296\n4       Abbey      Murrow   7562\n...       ...         ...    ...\n3486   Zollie       Exell  15183\n3487   Zonnya      Fayter   2097\n3488   Zonnya     Tolland    751\n3489   Zorina  Bosomworth  13170\n3490   Zulema  Cristofolo  19416\n\n[3491 rows x 3 columns]",
      "text/html": "<div>\n<style scoped>\n    .dataframe tbody tr th:only-of-type {\n        vertical-align: middle;\n    }\n\n    .dataframe tbody tr th {\n        vertical-align: top;\n    }\n\n    .dataframe thead th {\n        text-align: right;\n    }\n</style>\n<table border=\"1\" class=\"dataframe\">\n  <thead>\n    <tr style=\"text-align: right;\">\n      <th></th>\n      <th>0</th>\n      <th>1</th>\n      <th>2</th>\n    </tr>\n  </thead>\n  <tbody>\n    <tr>\n      <th>0</th>\n      <td>Aarika</td>\n      <td>Magog</td>\n      <td>3870</td>\n    </tr>\n    <tr>\n      <th>1</th>\n      <td>Aarika</td>\n      <td>Van Vuuren</td>\n      <td>16606</td>\n    </tr>\n    <tr>\n      <th>2</th>\n      <td>Abagail</td>\n      <td>Tordiffe</td>\n      <td>933</td>\n    </tr>\n    <tr>\n      <th>3</th>\n      <td>Abba</td>\n      <td>Masedon</td>\n      <td>11296</td>\n    </tr>\n    <tr>\n      <th>4</th>\n      <td>Abbey</td>\n      <td>Murrow</td>\n      <td>7562</td>\n    </tr>\n    <tr>\n      <th>...</th>\n      <td>...</td>\n      <td>...</td>\n      <td>...</td>\n    </tr>\n    <tr>\n      <th>3486</th>\n      <td>Zollie</td>\n      <td>Exell</td>\n      <td>15183</td>\n    </tr>\n    <tr>\n      <th>3487</th>\n      <td>Zonnya</td>\n      <td>Fayter</td>\n      <td>2097</td>\n    </tr>\n    <tr>\n      <th>3488</th>\n      <td>Zonnya</td>\n      <td>Tolland</td>\n      <td>751</td>\n    </tr>\n    <tr>\n      <th>3489</th>\n      <td>Zorina</td>\n      <td>Bosomworth</td>\n      <td>13170</td>\n    </tr>\n    <tr>\n      <th>3490</th>\n      <td>Zulema</td>\n      <td>Cristofolo</td>\n      <td>19416</td>\n    </tr>\n  </tbody>\n</table>\n<p>3491 rows × 3 columns</p>\n</div>"
     },
     "execution_count": 89,
     "metadata": {},
     "output_type": "execute_result"
    }
   ],
   "source": [
    "cursor.execute('''\n",
    "select distinct first_name, last_name,\n",
    "FIRST_VALUE(transaction_id) OVER(PARTITION BY first_name, last_name ORDER BY transaction_date)\n",
    "from transaction\n",
    "inner join products on transaction.product_id = products.product_id\n",
    "inner join customer on transaction.customer_id = customer.customer_id\n",
    "ORDER BY first_name, last_name ASC\n",
    "''')\n",
    "pd.DataFrame(cursor.fetchall())"
   ],
   "metadata": {
    "collapsed": false
   }
  },
  {
   "cell_type": "markdown",
   "source": [
    "Вывести имена, фамилии и профессии клиентов, между транзакциями которых был максимальный интервал (интервал вычисляется в днях)"
   ],
   "metadata": {
    "collapsed": false
   }
  },
  {
   "cell_type": "code",
   "execution_count": 123,
   "outputs": [
    {
     "data": {
      "text/plain": "           0     1                2    3\n0  Susanetta  None  Legal Assistant  357",
      "text/html": "<div>\n<style scoped>\n    .dataframe tbody tr th:only-of-type {\n        vertical-align: middle;\n    }\n\n    .dataframe tbody tr th {\n        vertical-align: top;\n    }\n\n    .dataframe thead th {\n        text-align: right;\n    }\n</style>\n<table border=\"1\" class=\"dataframe\">\n  <thead>\n    <tr style=\"text-align: right;\">\n      <th></th>\n      <th>0</th>\n      <th>1</th>\n      <th>2</th>\n      <th>3</th>\n    </tr>\n  </thead>\n  <tbody>\n    <tr>\n      <th>0</th>\n      <td>Susanetta</td>\n      <td>None</td>\n      <td>Legal Assistant</td>\n      <td>357</td>\n    </tr>\n  </tbody>\n</table>\n</div>"
     },
     "execution_count": 123,
     "metadata": {},
     "output_type": "execute_result"
    }
   ],
   "source": [
    "cursor.execute('''\n",
    "with temp_table as (\n",
    "    select first_name, last_name, job_title, transaction_date,\n",
    "    LEAD(transaction_date) OVER(PARTITION BY first_name,\n",
    "    last_name, job_title ORDER BY transaction_date ASC),\n",
    "    LEAD(transaction_date) OVER(PARTITION BY first_name,last_name, job_title ORDER BY transaction_date ASC) -\n",
    "    transaction_date as day_interval\n",
    "    from transaction\n",
    "    inner join products on transaction.product_id = products.product_id\n",
    "    inner join customer on transaction.customer_id = customer.customer_id\n",
    "    inner join jobs on customer.job_id = jobs.job_id\n",
    ")\n",
    "select distinct first_name, last_name, job_title, MAX(day_interval)\n",
    "from temp_table\n",
    "group by first_name, last_name, job_title\n",
    "HAVING MAX(day_interval) IS NOT NULL\n",
    "ORDER BY MAX(day_interval) DESC\n",
    "LIMIT 1\n",
    "''')\n",
    "pd.DataFrame(cursor.fetchall())"
   ],
   "metadata": {
    "collapsed": false
   }
  },
  {
   "cell_type": "code",
   "execution_count": 122,
   "outputs": [],
   "source": [
    "connection.rollback()"
   ],
   "metadata": {
    "collapsed": false
   }
  },
  {
   "cell_type": "code",
   "execution_count": null,
   "outputs": [],
   "source": [],
   "metadata": {
    "collapsed": false
   }
  }
 ],
 "metadata": {
  "kernelspec": {
   "display_name": "Python 3",
   "language": "python",
   "name": "python3"
  },
  "language_info": {
   "codemirror_mode": {
    "name": "ipython",
    "version": 2
   },
   "file_extension": ".py",
   "mimetype": "text/x-python",
   "name": "python",
   "nbconvert_exporter": "python",
   "pygments_lexer": "ipython2",
   "version": "2.7.6"
  }
 },
 "nbformat": 4,
 "nbformat_minor": 0
}
