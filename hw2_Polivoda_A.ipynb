{
 "cells": [
  {
   "cell_type": "code",
   "execution_count": 3,
   "metadata": {
    "collapsed": true
   },
   "outputs": [],
   "source": [
    "import psycopg2 as pg\n",
    "from psycopg2 import OperationalError\n",
    "import pandas as pd\n",
    "import numpy as np\n",
    "import warnings\n",
    "warnings.filterwarnings('ignore')\n",
    "warnings.warn('DelftStack')\n",
    "warnings.warn('Do not show this message')"
   ]
  },
  {
   "cell_type": "code",
   "execution_count": 2,
   "outputs": [],
   "source": [
    "connection = pg.connect(dbname = 'postgres',\n",
    "                       host = 'localhost',\n",
    "                       user = 'postgres',\n",
    "                       password = 'admin',\n",
    "                       port = 5432)\n",
    "cursor = connection.cursor()"
   ],
   "metadata": {
    "collapsed": false
   }
  },
  {
   "cell_type": "code",
   "execution_count": 20,
   "outputs": [],
   "source": [
    "connection.rollback()"
   ],
   "metadata": {
    "collapsed": false
   }
  },
  {
   "cell_type": "markdown",
   "source": [
    "# Схема БД\n",
    "\n",
    "![](images/db_model.png)"
   ],
   "metadata": {
    "collapsed": false
   }
  },
  {
   "cell_type": "markdown",
   "source": [
    "Вывести все уникальные бренды, у которых стандартная стоимость выше 1500 долларов."
   ],
   "metadata": {
    "collapsed": false
   }
  },
  {
   "cell_type": "code",
   "execution_count": 4,
   "outputs": [
    {
     "data": {
      "text/plain": "                0\n0  Giant Bicycles\n1      OHM Cycles\n2           Solex\n3   Trek Bicycles",
      "text/html": "<div>\n<style scoped>\n    .dataframe tbody tr th:only-of-type {\n        vertical-align: middle;\n    }\n\n    .dataframe tbody tr th {\n        vertical-align: top;\n    }\n\n    .dataframe thead th {\n        text-align: right;\n    }\n</style>\n<table border=\"1\" class=\"dataframe\">\n  <thead>\n    <tr style=\"text-align: right;\">\n      <th></th>\n      <th>0</th>\n    </tr>\n  </thead>\n  <tbody>\n    <tr>\n      <th>0</th>\n      <td>Giant Bicycles</td>\n    </tr>\n    <tr>\n      <th>1</th>\n      <td>OHM Cycles</td>\n    </tr>\n    <tr>\n      <th>2</th>\n      <td>Solex</td>\n    </tr>\n    <tr>\n      <th>3</th>\n      <td>Trek Bicycles</td>\n    </tr>\n  </tbody>\n</table>\n</div>"
     },
     "execution_count": 4,
     "metadata": {},
     "output_type": "execute_result"
    }
   ],
   "source": [
    "cursor.execute('''select distinct brand from products\n",
    "                  where standard_cost > 1500''')\n",
    "pd.DataFrame(cursor.fetchall()) # columns=['transaction_id','product_id','customer_id','transaction_date','online_order','order_status']"
   ],
   "metadata": {
    "collapsed": false
   }
  },
  {
   "cell_type": "markdown",
   "source": [
    "Вывести все подтвержденные транзакции за период '2017-04-01' по '2017-04-09' включительно."
   ],
   "metadata": {
    "collapsed": false
   }
  },
  {
   "cell_type": "code",
   "execution_count": 20,
   "outputs": [
    {
     "data": {
      "text/plain": "(531, 6)"
     },
     "execution_count": 20,
     "metadata": {},
     "output_type": "execute_result"
    }
   ],
   "source": [
    "cursor.execute('''select * from transaction\n",
    "                  where order_status like 'Approved'\n",
    "                  and transaction_date between '2017-04-01' and '2017-04-09' ''')\n",
    "pd.DataFrame(cursor.fetchall()).shape"
   ],
   "metadata": {
    "collapsed": false
   }
  },
  {
   "cell_type": "markdown",
   "source": [
    "Вывести все профессии у клиентов из сферы IT или Financial Services, которые начинаются с фразы 'Senior'."
   ],
   "metadata": {
    "collapsed": false
   }
  },
  {
   "cell_type": "code",
   "execution_count": 22,
   "outputs": [
    {
     "data": {
      "text/plain": "                          0\n0    Senior Cost Accountant\n1          Senior Developer\n2             Senior Editor\n3  Senior Financial Analyst\n4   Senior Quality Engineer\n5    Senior Sales Associate",
      "text/html": "<div>\n<style scoped>\n    .dataframe tbody tr th:only-of-type {\n        vertical-align: middle;\n    }\n\n    .dataframe tbody tr th {\n        vertical-align: top;\n    }\n\n    .dataframe thead th {\n        text-align: right;\n    }\n</style>\n<table border=\"1\" class=\"dataframe\">\n  <thead>\n    <tr style=\"text-align: right;\">\n      <th></th>\n      <th>0</th>\n    </tr>\n  </thead>\n  <tbody>\n    <tr>\n      <th>0</th>\n      <td>Senior Cost Accountant</td>\n    </tr>\n    <tr>\n      <th>1</th>\n      <td>Senior Developer</td>\n    </tr>\n    <tr>\n      <th>2</th>\n      <td>Senior Editor</td>\n    </tr>\n    <tr>\n      <th>3</th>\n      <td>Senior Financial Analyst</td>\n    </tr>\n    <tr>\n      <th>4</th>\n      <td>Senior Quality Engineer</td>\n    </tr>\n    <tr>\n      <th>5</th>\n      <td>Senior Sales Associate</td>\n    </tr>\n  </tbody>\n</table>\n</div>"
     },
     "execution_count": 22,
     "metadata": {},
     "output_type": "execute_result"
    }
   ],
   "source": [
    "cursor.execute('''select distinct job_title from jobs\n",
    "                  where job_industry_category in ('IT', 'Financial Services')\n",
    "                  and job_title like 'Senior%'\n",
    "                 ''')\n",
    "pd.DataFrame(cursor.fetchall())"
   ],
   "metadata": {
    "collapsed": false
   }
  },
  {
   "cell_type": "markdown",
   "source": [
    "Вывести все бренды, которые закупают клиенты, работающие в сфере Financial Services"
   ],
   "metadata": {
    "collapsed": false
   }
  },
  {
   "cell_type": "code",
   "execution_count": 8,
   "outputs": [
    {
     "data": {
      "text/plain": "                0\n0      OHM Cycles\n1   Trek Bicycles\n2        WeareA2B\n3           Solex\n4  Norco Bicycles\n5  Giant Bicycles",
      "text/html": "<div>\n<style scoped>\n    .dataframe tbody tr th:only-of-type {\n        vertical-align: middle;\n    }\n\n    .dataframe tbody tr th {\n        vertical-align: top;\n    }\n\n    .dataframe thead th {\n        text-align: right;\n    }\n</style>\n<table border=\"1\" class=\"dataframe\">\n  <thead>\n    <tr style=\"text-align: right;\">\n      <th></th>\n      <th>0</th>\n    </tr>\n  </thead>\n  <tbody>\n    <tr>\n      <th>0</th>\n      <td>OHM Cycles</td>\n    </tr>\n    <tr>\n      <th>1</th>\n      <td>Trek Bicycles</td>\n    </tr>\n    <tr>\n      <th>2</th>\n      <td>WeareA2B</td>\n    </tr>\n    <tr>\n      <th>3</th>\n      <td>Solex</td>\n    </tr>\n    <tr>\n      <th>4</th>\n      <td>Norco Bicycles</td>\n    </tr>\n    <tr>\n      <th>5</th>\n      <td>Giant Bicycles</td>\n    </tr>\n  </tbody>\n</table>\n</div>"
     },
     "execution_count": 8,
     "metadata": {},
     "output_type": "execute_result"
    }
   ],
   "source": [
    "cursor.execute('''select distinct brand from products prod\n",
    "                  inner join transaction tr on prod.product_id = tr.product_id\n",
    "                  inner join customer cus on cus.customer_id = tr.customer_id\n",
    "                  inner join jobs on jobs.job_id = cus.job_id\n",
    "                  where job_industry_category = 'Financial Services'\n",
    "                 ''')\n",
    "pd.DataFrame(cursor.fetchall())"
   ],
   "metadata": {
    "collapsed": false
   }
  },
  {
   "cell_type": "markdown",
   "source": [
    "Вывести 10 клиентов, которые оформили онлайн-заказ продукции из брендов 'Giant Bicycles', 'Norco Bicycles', 'Trek Bicycles'."
   ],
   "metadata": {
    "collapsed": false
   }
  },
  {
   "cell_type": "code",
   "execution_count": 15,
   "outputs": [
    {
     "data": {
      "text/plain": "      0        1           2\n0  3120   Lauree   O`Donnell\n1   787    Norma      Batrim\n2  2339   Damien   Haddeston\n3  1542  Sanders  Fernyhough\n4  3262  Maynord  L`Episcopi\n5  3002   Tracey      Verdun\n6  3368    Tanya      Boddis\n7  2448    Lorri       Iston\n8  1305   Averil     Gentiry\n9  3455     Coop        Skey",
      "text/html": "<div>\n<style scoped>\n    .dataframe tbody tr th:only-of-type {\n        vertical-align: middle;\n    }\n\n    .dataframe tbody tr th {\n        vertical-align: top;\n    }\n\n    .dataframe thead th {\n        text-align: right;\n    }\n</style>\n<table border=\"1\" class=\"dataframe\">\n  <thead>\n    <tr style=\"text-align: right;\">\n      <th></th>\n      <th>0</th>\n      <th>1</th>\n      <th>2</th>\n    </tr>\n  </thead>\n  <tbody>\n    <tr>\n      <th>0</th>\n      <td>3120</td>\n      <td>Lauree</td>\n      <td>O`Donnell</td>\n    </tr>\n    <tr>\n      <th>1</th>\n      <td>787</td>\n      <td>Norma</td>\n      <td>Batrim</td>\n    </tr>\n    <tr>\n      <th>2</th>\n      <td>2339</td>\n      <td>Damien</td>\n      <td>Haddeston</td>\n    </tr>\n    <tr>\n      <th>3</th>\n      <td>1542</td>\n      <td>Sanders</td>\n      <td>Fernyhough</td>\n    </tr>\n    <tr>\n      <th>4</th>\n      <td>3262</td>\n      <td>Maynord</td>\n      <td>L`Episcopi</td>\n    </tr>\n    <tr>\n      <th>5</th>\n      <td>3002</td>\n      <td>Tracey</td>\n      <td>Verdun</td>\n    </tr>\n    <tr>\n      <th>6</th>\n      <td>3368</td>\n      <td>Tanya</td>\n      <td>Boddis</td>\n    </tr>\n    <tr>\n      <th>7</th>\n      <td>2448</td>\n      <td>Lorri</td>\n      <td>Iston</td>\n    </tr>\n    <tr>\n      <th>8</th>\n      <td>1305</td>\n      <td>Averil</td>\n      <td>Gentiry</td>\n    </tr>\n    <tr>\n      <th>9</th>\n      <td>3455</td>\n      <td>Coop</td>\n      <td>Skey</td>\n    </tr>\n  </tbody>\n</table>\n</div>"
     },
     "execution_count": 15,
     "metadata": {},
     "output_type": "execute_result"
    }
   ],
   "source": [
    "cursor.execute('''select customer.customer_id, first_name, last_name from customer\n",
    "                  inner join transaction tr on tr.customer_id = customer.customer_id\n",
    "                  inner join products on products.product_id = tr.product_id\n",
    "                  where brand in ('Giant Bicycles', 'Norco Bicycles', 'Trek Bicycles')\n",
    "                  and online_order = true\n",
    "                  limit 10\n",
    "                 ''')\n",
    "pd.DataFrame(cursor.fetchall())"
   ],
   "metadata": {
    "collapsed": false
   }
  },
  {
   "cell_type": "markdown",
   "source": [
    "Вывести всех клиентов, у которых нет транзакций."
   ],
   "metadata": {
    "collapsed": false
   }
  },
  {
   "cell_type": "code",
   "execution_count": 17,
   "outputs": [
    {
     "data": {
      "text/plain": "        0        1             2\n0    3565   Charyl     Pottiphar\n1    3535     Bren        Dabbes\n2    3647  Carlyle         Frape\n3    3903    Dayna      Cawthera\n4    3519    Aldus    Kenningley\n..    ...      ...           ...\n502  3811     Etta         Leele\n503  3648   Tracie  Bartolomeoni\n504  4000    Kippy       Oldland\n505  3719  Dorette      Attridge\n506  3762  Marinna           Ors\n\n[507 rows x 3 columns]",
      "text/html": "<div>\n<style scoped>\n    .dataframe tbody tr th:only-of-type {\n        vertical-align: middle;\n    }\n\n    .dataframe tbody tr th {\n        vertical-align: top;\n    }\n\n    .dataframe thead th {\n        text-align: right;\n    }\n</style>\n<table border=\"1\" class=\"dataframe\">\n  <thead>\n    <tr style=\"text-align: right;\">\n      <th></th>\n      <th>0</th>\n      <th>1</th>\n      <th>2</th>\n    </tr>\n  </thead>\n  <tbody>\n    <tr>\n      <th>0</th>\n      <td>3565</td>\n      <td>Charyl</td>\n      <td>Pottiphar</td>\n    </tr>\n    <tr>\n      <th>1</th>\n      <td>3535</td>\n      <td>Bren</td>\n      <td>Dabbes</td>\n    </tr>\n    <tr>\n      <th>2</th>\n      <td>3647</td>\n      <td>Carlyle</td>\n      <td>Frape</td>\n    </tr>\n    <tr>\n      <th>3</th>\n      <td>3903</td>\n      <td>Dayna</td>\n      <td>Cawthera</td>\n    </tr>\n    <tr>\n      <th>4</th>\n      <td>3519</td>\n      <td>Aldus</td>\n      <td>Kenningley</td>\n    </tr>\n    <tr>\n      <th>...</th>\n      <td>...</td>\n      <td>...</td>\n      <td>...</td>\n    </tr>\n    <tr>\n      <th>502</th>\n      <td>3811</td>\n      <td>Etta</td>\n      <td>Leele</td>\n    </tr>\n    <tr>\n      <th>503</th>\n      <td>3648</td>\n      <td>Tracie</td>\n      <td>Bartolomeoni</td>\n    </tr>\n    <tr>\n      <th>504</th>\n      <td>4000</td>\n      <td>Kippy</td>\n      <td>Oldland</td>\n    </tr>\n    <tr>\n      <th>505</th>\n      <td>3719</td>\n      <td>Dorette</td>\n      <td>Attridge</td>\n    </tr>\n    <tr>\n      <th>506</th>\n      <td>3762</td>\n      <td>Marinna</td>\n      <td>Ors</td>\n    </tr>\n  </tbody>\n</table>\n<p>507 rows × 3 columns</p>\n</div>"
     },
     "execution_count": 17,
     "metadata": {},
     "output_type": "execute_result"
    }
   ],
   "source": [
    "cursor.execute('''select customer.customer_id, first_name, last_name from customer\n",
    "                  left join transaction tr on tr.customer_id = customer.customer_id\n",
    "                  where tr.transaction_id is null\n",
    "                 ''')\n",
    "pd.DataFrame(cursor.fetchall())"
   ],
   "metadata": {
    "collapsed": false
   }
  },
  {
   "cell_type": "markdown",
   "source": [
    "Вывести всех клиентов из IT, у которых транзакции с максимальной стандартной стоимостью."
   ],
   "metadata": {
    "collapsed": false
   }
  },
  {
   "cell_type": "code",
   "execution_count": 29,
   "outputs": [
    {
     "data": {
      "text/plain": "       0          1             2\n0     83       Kerr       Simmell\n1    249     D`arcy          Slay\n2    267      Edgar       Buckler\n3    308       Iver       Dobsons\n4    441    Felicle        Beneze\n5    451     Marlow     Flowerdew\n6    680        Gay   Pickersgill\n7    769    Cameron    Letherbury\n8    784   Frederik       Duckett\n9    799    Harland       Spilisy\n10   876       Neil        Jencey\n11   892     Conroy         Healy\n12   968      Wayne       Woodfin\n13   975  Goldarina       Rzehorz\n14  1004      Colas      Pumfrett\n15  1210    Shandie        Sprigg\n16  1227    Carlina        Pencot\n17  1339     Mariam         Guiel\n18  1433      Marya       Szwandt\n19  1517    Murdoch         Twort\n20  1550       Nell   MacCafferky\n21  1588      Dukey        McCrie\n22  1654      Melli      Sperwell\n23  1736     Garrek     Rowbotham\n24  1757     Hashim      Hartwell\n25  1791      Ninon  Van Der Hoog\n26  1820       Yard        Teeney\n27  1859    Melamie       Hardman\n28  1887    Kynthia        Purcer\n29  1969    Dimitry       Kunkler\n30  2037      Irwin         Ryall\n31  2181       Tobe         Roxby\n32  2252     Darcey         Annis\n33  2457     Benito      Vearnals\n34  2495    Gwenore         Suero\n35  2647   Marcelia       Blannin\n36  2697    Klarika         Yerby\n37  2797     Agatha        Vowden\n38  2833         Cy         Braim\n39  2963   Christin        Fricke\n40  3151      Thorn       Choffin\n41  3160    Eadmund    Braycotton\n42  3343  Cristabel           Bim\n43  3466     Victor         Zaple\n44  3467      Killy      Spaducci",
      "text/html": "<div>\n<style scoped>\n    .dataframe tbody tr th:only-of-type {\n        vertical-align: middle;\n    }\n\n    .dataframe tbody tr th {\n        vertical-align: top;\n    }\n\n    .dataframe thead th {\n        text-align: right;\n    }\n</style>\n<table border=\"1\" class=\"dataframe\">\n  <thead>\n    <tr style=\"text-align: right;\">\n      <th></th>\n      <th>0</th>\n      <th>1</th>\n      <th>2</th>\n    </tr>\n  </thead>\n  <tbody>\n    <tr>\n      <th>0</th>\n      <td>83</td>\n      <td>Kerr</td>\n      <td>Simmell</td>\n    </tr>\n    <tr>\n      <th>1</th>\n      <td>249</td>\n      <td>D`arcy</td>\n      <td>Slay</td>\n    </tr>\n    <tr>\n      <th>2</th>\n      <td>267</td>\n      <td>Edgar</td>\n      <td>Buckler</td>\n    </tr>\n    <tr>\n      <th>3</th>\n      <td>308</td>\n      <td>Iver</td>\n      <td>Dobsons</td>\n    </tr>\n    <tr>\n      <th>4</th>\n      <td>441</td>\n      <td>Felicle</td>\n      <td>Beneze</td>\n    </tr>\n    <tr>\n      <th>5</th>\n      <td>451</td>\n      <td>Marlow</td>\n      <td>Flowerdew</td>\n    </tr>\n    <tr>\n      <th>6</th>\n      <td>680</td>\n      <td>Gay</td>\n      <td>Pickersgill</td>\n    </tr>\n    <tr>\n      <th>7</th>\n      <td>769</td>\n      <td>Cameron</td>\n      <td>Letherbury</td>\n    </tr>\n    <tr>\n      <th>8</th>\n      <td>784</td>\n      <td>Frederik</td>\n      <td>Duckett</td>\n    </tr>\n    <tr>\n      <th>9</th>\n      <td>799</td>\n      <td>Harland</td>\n      <td>Spilisy</td>\n    </tr>\n    <tr>\n      <th>10</th>\n      <td>876</td>\n      <td>Neil</td>\n      <td>Jencey</td>\n    </tr>\n    <tr>\n      <th>11</th>\n      <td>892</td>\n      <td>Conroy</td>\n      <td>Healy</td>\n    </tr>\n    <tr>\n      <th>12</th>\n      <td>968</td>\n      <td>Wayne</td>\n      <td>Woodfin</td>\n    </tr>\n    <tr>\n      <th>13</th>\n      <td>975</td>\n      <td>Goldarina</td>\n      <td>Rzehorz</td>\n    </tr>\n    <tr>\n      <th>14</th>\n      <td>1004</td>\n      <td>Colas</td>\n      <td>Pumfrett</td>\n    </tr>\n    <tr>\n      <th>15</th>\n      <td>1210</td>\n      <td>Shandie</td>\n      <td>Sprigg</td>\n    </tr>\n    <tr>\n      <th>16</th>\n      <td>1227</td>\n      <td>Carlina</td>\n      <td>Pencot</td>\n    </tr>\n    <tr>\n      <th>17</th>\n      <td>1339</td>\n      <td>Mariam</td>\n      <td>Guiel</td>\n    </tr>\n    <tr>\n      <th>18</th>\n      <td>1433</td>\n      <td>Marya</td>\n      <td>Szwandt</td>\n    </tr>\n    <tr>\n      <th>19</th>\n      <td>1517</td>\n      <td>Murdoch</td>\n      <td>Twort</td>\n    </tr>\n    <tr>\n      <th>20</th>\n      <td>1550</td>\n      <td>Nell</td>\n      <td>MacCafferky</td>\n    </tr>\n    <tr>\n      <th>21</th>\n      <td>1588</td>\n      <td>Dukey</td>\n      <td>McCrie</td>\n    </tr>\n    <tr>\n      <th>22</th>\n      <td>1654</td>\n      <td>Melli</td>\n      <td>Sperwell</td>\n    </tr>\n    <tr>\n      <th>23</th>\n      <td>1736</td>\n      <td>Garrek</td>\n      <td>Rowbotham</td>\n    </tr>\n    <tr>\n      <th>24</th>\n      <td>1757</td>\n      <td>Hashim</td>\n      <td>Hartwell</td>\n    </tr>\n    <tr>\n      <th>25</th>\n      <td>1791</td>\n      <td>Ninon</td>\n      <td>Van Der Hoog</td>\n    </tr>\n    <tr>\n      <th>26</th>\n      <td>1820</td>\n      <td>Yard</td>\n      <td>Teeney</td>\n    </tr>\n    <tr>\n      <th>27</th>\n      <td>1859</td>\n      <td>Melamie</td>\n      <td>Hardman</td>\n    </tr>\n    <tr>\n      <th>28</th>\n      <td>1887</td>\n      <td>Kynthia</td>\n      <td>Purcer</td>\n    </tr>\n    <tr>\n      <th>29</th>\n      <td>1969</td>\n      <td>Dimitry</td>\n      <td>Kunkler</td>\n    </tr>\n    <tr>\n      <th>30</th>\n      <td>2037</td>\n      <td>Irwin</td>\n      <td>Ryall</td>\n    </tr>\n    <tr>\n      <th>31</th>\n      <td>2181</td>\n      <td>Tobe</td>\n      <td>Roxby</td>\n    </tr>\n    <tr>\n      <th>32</th>\n      <td>2252</td>\n      <td>Darcey</td>\n      <td>Annis</td>\n    </tr>\n    <tr>\n      <th>33</th>\n      <td>2457</td>\n      <td>Benito</td>\n      <td>Vearnals</td>\n    </tr>\n    <tr>\n      <th>34</th>\n      <td>2495</td>\n      <td>Gwenore</td>\n      <td>Suero</td>\n    </tr>\n    <tr>\n      <th>35</th>\n      <td>2647</td>\n      <td>Marcelia</td>\n      <td>Blannin</td>\n    </tr>\n    <tr>\n      <th>36</th>\n      <td>2697</td>\n      <td>Klarika</td>\n      <td>Yerby</td>\n    </tr>\n    <tr>\n      <th>37</th>\n      <td>2797</td>\n      <td>Agatha</td>\n      <td>Vowden</td>\n    </tr>\n    <tr>\n      <th>38</th>\n      <td>2833</td>\n      <td>Cy</td>\n      <td>Braim</td>\n    </tr>\n    <tr>\n      <th>39</th>\n      <td>2963</td>\n      <td>Christin</td>\n      <td>Fricke</td>\n    </tr>\n    <tr>\n      <th>40</th>\n      <td>3151</td>\n      <td>Thorn</td>\n      <td>Choffin</td>\n    </tr>\n    <tr>\n      <th>41</th>\n      <td>3160</td>\n      <td>Eadmund</td>\n      <td>Braycotton</td>\n    </tr>\n    <tr>\n      <th>42</th>\n      <td>3343</td>\n      <td>Cristabel</td>\n      <td>Bim</td>\n    </tr>\n    <tr>\n      <th>43</th>\n      <td>3466</td>\n      <td>Victor</td>\n      <td>Zaple</td>\n    </tr>\n    <tr>\n      <th>44</th>\n      <td>3467</td>\n      <td>Killy</td>\n      <td>Spaducci</td>\n    </tr>\n  </tbody>\n</table>\n</div>"
     },
     "execution_count": 29,
     "metadata": {},
     "output_type": "execute_result"
    }
   ],
   "source": [
    "cursor.execute('''select distinct cus.customer_id, first_name, last_name\n",
    "                  from customer cus\n",
    "                  inner join transaction tr on cus.customer_id = tr.customer_id\n",
    "                  inner join products prod on prod.product_id = tr.product_id\n",
    "                  inner join jobs on jobs.job_id = cus.job_id\n",
    "                  where job_industry_category = 'IT'\n",
    "                  and standard_cost in (select max(standard_cost) from products\n",
    "\t\t\t\t\t   group by brand)\n",
    "                 ''')\n",
    "pd.DataFrame(cursor.fetchall())"
   ],
   "metadata": {
    "collapsed": false
   }
  },
  {
   "cell_type": "markdown",
   "source": [
    "Вывести всех клиентов из сферы IT и Health, у которых есть подтвержденные транзакции за период '2017-07-07' по '2017-07-17'."
   ],
   "metadata": {
    "collapsed": false
   }
  },
  {
   "cell_type": "code",
   "execution_count": 34,
   "outputs": [
    {
     "data": {
      "text/plain": "        0         1           2\n0    1907      Lind      Dredge\n1     685     Booth      Birkin\n2    2337    Odilia        Bick\n3    2341  Caterina     Scedall\n4    1237     Junia  Humerstone\n..    ...       ...         ...\n110   708   Idalina      Wilcot\n111   788     Gregg    Townsend\n112   694    Lilith     Lanning\n113  2782   Gillian  Scrimshire\n114  3173    Angelo        None\n\n[115 rows x 3 columns]",
      "text/html": "<div>\n<style scoped>\n    .dataframe tbody tr th:only-of-type {\n        vertical-align: middle;\n    }\n\n    .dataframe tbody tr th {\n        vertical-align: top;\n    }\n\n    .dataframe thead th {\n        text-align: right;\n    }\n</style>\n<table border=\"1\" class=\"dataframe\">\n  <thead>\n    <tr style=\"text-align: right;\">\n      <th></th>\n      <th>0</th>\n      <th>1</th>\n      <th>2</th>\n    </tr>\n  </thead>\n  <tbody>\n    <tr>\n      <th>0</th>\n      <td>1907</td>\n      <td>Lind</td>\n      <td>Dredge</td>\n    </tr>\n    <tr>\n      <th>1</th>\n      <td>685</td>\n      <td>Booth</td>\n      <td>Birkin</td>\n    </tr>\n    <tr>\n      <th>2</th>\n      <td>2337</td>\n      <td>Odilia</td>\n      <td>Bick</td>\n    </tr>\n    <tr>\n      <th>3</th>\n      <td>2341</td>\n      <td>Caterina</td>\n      <td>Scedall</td>\n    </tr>\n    <tr>\n      <th>4</th>\n      <td>1237</td>\n      <td>Junia</td>\n      <td>Humerstone</td>\n    </tr>\n    <tr>\n      <th>...</th>\n      <td>...</td>\n      <td>...</td>\n      <td>...</td>\n    </tr>\n    <tr>\n      <th>110</th>\n      <td>708</td>\n      <td>Idalina</td>\n      <td>Wilcot</td>\n    </tr>\n    <tr>\n      <th>111</th>\n      <td>788</td>\n      <td>Gregg</td>\n      <td>Townsend</td>\n    </tr>\n    <tr>\n      <th>112</th>\n      <td>694</td>\n      <td>Lilith</td>\n      <td>Lanning</td>\n    </tr>\n    <tr>\n      <th>113</th>\n      <td>2782</td>\n      <td>Gillian</td>\n      <td>Scrimshire</td>\n    </tr>\n    <tr>\n      <th>114</th>\n      <td>3173</td>\n      <td>Angelo</td>\n      <td>None</td>\n    </tr>\n  </tbody>\n</table>\n<p>115 rows × 3 columns</p>\n</div>"
     },
     "execution_count": 34,
     "metadata": {},
     "output_type": "execute_result"
    }
   ],
   "source": [
    "cursor.execute('''select distinct cus.customer_id, first_name, last_name\n",
    "                  from customer cus\n",
    "                  inner join transaction tr on cus.customer_id = tr.customer_id\n",
    "                  inner join products prod on prod.product_id = tr.product_id\n",
    "                  inner join jobs on jobs.job_id = cus.job_id\n",
    "                  where job_industry_category in ('IT', 'Health')\n",
    "                  and cus.customer_id in (select customer_id from transaction\n",
    "                                          where order_status = 'Approved'\n",
    "                                          and transaction_date between '2017-07-07' and '2017-07-17')\n",
    "                 ''')\n",
    "pd.DataFrame(cursor.fetchall())"
   ],
   "metadata": {
    "collapsed": false
   }
  },
  {
   "cell_type": "code",
   "execution_count": 27,
   "outputs": [],
   "source": [
    "connection.rollback()"
   ],
   "metadata": {
    "collapsed": false
   }
  }
 ],
 "metadata": {
  "kernelspec": {
   "display_name": "Python 3",
   "language": "python",
   "name": "python3"
  },
  "language_info": {
   "codemirror_mode": {
    "name": "ipython",
    "version": 2
   },
   "file_extension": ".py",
   "mimetype": "text/x-python",
   "name": "python",
   "nbconvert_exporter": "python",
   "pygments_lexer": "ipython2",
   "version": "2.7.6"
  }
 },
 "nbformat": 4,
 "nbformat_minor": 0
}
