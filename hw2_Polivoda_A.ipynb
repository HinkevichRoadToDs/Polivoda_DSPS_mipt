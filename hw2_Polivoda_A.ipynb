{
 "cells": [
  {
   "cell_type": "code",
   "execution_count": 5,
   "metadata": {
    "collapsed": true
   },
   "outputs": [],
   "source": [
    "import psycopg2 as pg\n",
    "from psycopg2 import OperationalError\n",
    "import pandas as pd\n",
    "import numpy as np\n",
    "import warnings\n",
    "warnings.filterwarnings('ignore')\n",
    "warnings.warn('DelftStack')\n",
    "warnings.warn('Do not show this message')"
   ]
  },
  {
   "cell_type": "code",
   "execution_count": 4,
   "outputs": [],
   "source": [
    "connection = pg.connect(dbname = 'postgres',\n",
    "                       host = 'localhost',\n",
    "                       user = 'postgres',\n",
    "                       password = 'admin',\n",
    "                       port = 5432)\n",
    "cursor = connection.cursor()"
   ],
   "metadata": {
    "collapsed": false
   }
  },
  {
   "cell_type": "code",
   "execution_count": 16,
   "outputs": [],
   "source": [
    "connection.rollback()"
   ],
   "metadata": {
    "collapsed": false
   }
  },
  {
   "cell_type": "markdown",
   "source": [
    "Вывести все уникальные бренды, у которых стандартная стоимость выше 1500 долларов."
   ],
   "metadata": {
    "collapsed": false
   }
  },
  {
   "cell_type": "code",
   "execution_count": 17,
   "outputs": [
    {
     "data": {
      "text/plain": "                0\n0  Giant Bicycles\n1      OHM Cycles\n2           Solex\n3   Trek Bicycles",
      "text/html": "<div>\n<style scoped>\n    .dataframe tbody tr th:only-of-type {\n        vertical-align: middle;\n    }\n\n    .dataframe tbody tr th {\n        vertical-align: top;\n    }\n\n    .dataframe thead th {\n        text-align: right;\n    }\n</style>\n<table border=\"1\" class=\"dataframe\">\n  <thead>\n    <tr style=\"text-align: right;\">\n      <th></th>\n      <th>0</th>\n    </tr>\n  </thead>\n  <tbody>\n    <tr>\n      <th>0</th>\n      <td>Giant Bicycles</td>\n    </tr>\n    <tr>\n      <th>1</th>\n      <td>OHM Cycles</td>\n    </tr>\n    <tr>\n      <th>2</th>\n      <td>Solex</td>\n    </tr>\n    <tr>\n      <th>3</th>\n      <td>Trek Bicycles</td>\n    </tr>\n  </tbody>\n</table>\n</div>"
     },
     "execution_count": 17,
     "metadata": {},
     "output_type": "execute_result"
    }
   ],
   "source": [
    "cursor.execute('''select distinct brand from products\n",
    "                  where standard_cost > 1500''')\n",
    "pd.DataFrame(cursor.fetchall()) # columns=['transaction_id','product_id','customer_id','transaction_date','online_order','order_status']"
   ],
   "metadata": {
    "collapsed": false
   }
  },
  {
   "cell_type": "markdown",
   "source": [
    "Вывести все подтвержденные транзакции за период '2017-04-01' по '2017-04-09' включительно."
   ],
   "metadata": {
    "collapsed": false
   }
  },
  {
   "cell_type": "code",
   "execution_count": 20,
   "outputs": [
    {
     "data": {
      "text/plain": "(531, 6)"
     },
     "execution_count": 20,
     "metadata": {},
     "output_type": "execute_result"
    }
   ],
   "source": [
    "cursor.execute('''select * from transaction\n",
    "                  where order_status like 'Approved'\n",
    "                  and transaction_date between '2017-04-01' and '2017-04-09' ''')\n",
    "pd.DataFrame(cursor.fetchall()).shape"
   ],
   "metadata": {
    "collapsed": false
   }
  },
  {
   "cell_type": "markdown",
   "source": [
    "Вывести все профессии у клиентов из сферы IT или Financial Services, которые начинаются с фразы 'Senior'."
   ],
   "metadata": {
    "collapsed": false
   }
  },
  {
   "cell_type": "code",
   "execution_count": 22,
   "outputs": [
    {
     "data": {
      "text/plain": "                          0\n0    Senior Cost Accountant\n1          Senior Developer\n2             Senior Editor\n3  Senior Financial Analyst\n4   Senior Quality Engineer\n5    Senior Sales Associate",
      "text/html": "<div>\n<style scoped>\n    .dataframe tbody tr th:only-of-type {\n        vertical-align: middle;\n    }\n\n    .dataframe tbody tr th {\n        vertical-align: top;\n    }\n\n    .dataframe thead th {\n        text-align: right;\n    }\n</style>\n<table border=\"1\" class=\"dataframe\">\n  <thead>\n    <tr style=\"text-align: right;\">\n      <th></th>\n      <th>0</th>\n    </tr>\n  </thead>\n  <tbody>\n    <tr>\n      <th>0</th>\n      <td>Senior Cost Accountant</td>\n    </tr>\n    <tr>\n      <th>1</th>\n      <td>Senior Developer</td>\n    </tr>\n    <tr>\n      <th>2</th>\n      <td>Senior Editor</td>\n    </tr>\n    <tr>\n      <th>3</th>\n      <td>Senior Financial Analyst</td>\n    </tr>\n    <tr>\n      <th>4</th>\n      <td>Senior Quality Engineer</td>\n    </tr>\n    <tr>\n      <th>5</th>\n      <td>Senior Sales Associate</td>\n    </tr>\n  </tbody>\n</table>\n</div>"
     },
     "execution_count": 22,
     "metadata": {},
     "output_type": "execute_result"
    }
   ],
   "source": [
    "cursor.execute('''select distinct job_title from jobs\n",
    "                  where job_industry_category in ('IT', 'Financial Services')\n",
    "                  and job_title like 'Senior%'\n",
    "                 ''')\n",
    "pd.DataFrame(cursor.fetchall())"
   ],
   "metadata": {
    "collapsed": false
   }
  },
  {
   "cell_type": "code",
   "execution_count": null,
   "outputs": [],
   "source": [],
   "metadata": {
    "collapsed": false
   }
  }
 ],
 "metadata": {
  "kernelspec": {
   "display_name": "Python 3",
   "language": "python",
   "name": "python3"
  },
  "language_info": {
   "codemirror_mode": {
    "name": "ipython",
    "version": 2
   },
   "file_extension": ".py",
   "mimetype": "text/x-python",
   "name": "python",
   "nbconvert_exporter": "python",
   "pygments_lexer": "ipython2",
   "version": "2.7.6"
  }
 },
 "nbformat": 4,
 "nbformat_minor": 0
}
